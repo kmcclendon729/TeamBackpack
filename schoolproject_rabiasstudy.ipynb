{
 "cells": [
  {
   "cell_type": "code",
   "execution_count": 2,
   "metadata": {},
   "outputs": [],
   "source": [
    "import pandas as pd"
   ]
  },
  {
   "cell_type": "code",
   "execution_count": 27,
   "metadata": {},
   "outputs": [],
   "source": [
    "pubschls = \"pubschls.csv\"\n",
    "public_schools = pd.read_csv(pubschls, low_memory=False)"
   ]
  },
  {
   "cell_type": "code",
   "execution_count": 7,
   "metadata": {},
   "outputs": [
    {
     "data": {
      "text/plain": [
       "Index(['CDSCode', 'NCESDist', 'NCESSchool', 'StatusType', 'County', 'District',\n",
       "       'School', 'Street', 'StreetAbr', 'City', 'Zip', 'State', 'MailStreet',\n",
       "       'MailStrAbr', 'MailCity', 'MailZip', 'MailState', 'Phone', 'Ext',\n",
       "       'WebSite', 'OpenDate', 'ClosedDate', 'Charter', 'CharterNum',\n",
       "       'FundingType', 'DOC', 'DOCType', 'SOC', 'SOCType', 'EdOpsCode',\n",
       "       'EdOpsName', 'EILCode', 'EILName', 'GSoffered', 'GSserved', 'Virtual',\n",
       "       'Magnet', 'YearRoundYN', 'FederalDFCDistrictID', 'Latitude',\n",
       "       'Longitude', 'AdmFName1', 'AdmLName1', 'AdmEmail1', 'AdmFName2',\n",
       "       'AdmLName2', 'AdmEmail2', 'AdmFName3', 'AdmLName3', 'AdmEmail3',\n",
       "       'LastUpDate'],\n",
       "      dtype='object')"
      ]
     },
     "execution_count": 7,
     "metadata": {},
     "output_type": "execute_result"
    }
   ],
   "source": [
    "public_schools.columns"
   ]
  },
  {
   "cell_type": "code",
   "execution_count": 31,
   "metadata": {},
   "outputs": [
    {
     "data": {
      "text/plain": [
       "18104"
      ]
     },
     "execution_count": 31,
     "metadata": {},
     "output_type": "execute_result"
    }
   ],
   "source": [
    "public_schools[\"School\"].count()"
   ]
  },
  {
   "cell_type": "code",
   "execution_count": 32,
   "metadata": {},
   "outputs": [
    {
     "data": {
      "text/plain": [
       "0        5/31/2019\n",
       "1         9/1/2015\n",
       "2         7/1/2019\n",
       "3         7/1/2015\n",
       "4        2/13/2019\n",
       "           ...    \n",
       "18100    6/24/1999\n",
       "18101    6/24/1999\n",
       "18102     7/2/2013\n",
       "18103    2/13/2019\n",
       "18104          NaN\n",
       "Name: LastUpDate, Length: 18105, dtype: object"
      ]
     },
     "execution_count": 32,
     "metadata": {},
     "output_type": "execute_result"
    }
   ],
   "source": [
    "public_schools[\"LastUpDate\"]"
   ]
  },
  {
   "cell_type": "code",
   "execution_count": 37,
   "metadata": {},
   "outputs": [],
   "source": [
    "public_schools['time'] = pd.to_datetime(public_schools['LastUpDate'])"
   ]
  },
  {
   "cell_type": "code",
   "execution_count": 39,
   "metadata": {},
   "outputs": [],
   "source": [
    "public_schools['year'] = public_schools['time'].dt.year "
   ]
  },
  {
   "cell_type": "code",
   "execution_count": 42,
   "metadata": {},
   "outputs": [
    {
     "data": {
      "text/plain": [
       "11881"
      ]
     },
     "execution_count": 42,
     "metadata": {},
     "output_type": "execute_result"
    }
   ],
   "source": [
    "# Number of public schools information last 4 year\n",
    "len(public_schools.loc[public_schools[\"year\"] > 2016])"
   ]
  },
  {
   "cell_type": "code",
   "execution_count": 46,
   "metadata": {},
   "outputs": [],
   "source": [
    "ps_since2016 = public_schools.loc[public_schools[\"year\"] > 2016]"
   ]
  },
  {
   "cell_type": "code",
   "execution_count": 47,
   "metadata": {},
   "outputs": [
    {
     "data": {
      "text/plain": [
       "array(['Active', 'Closed', 'Merged', 'Pending'], dtype=object)"
      ]
     },
     "execution_count": 47,
     "metadata": {},
     "output_type": "execute_result"
    }
   ],
   "source": [
    "ps_since2016[\"StatusType\"].unique()"
   ]
  },
  {
   "cell_type": "code",
   "execution_count": 62,
   "metadata": {},
   "outputs": [
    {
     "data": {
      "text/html": [
       "<div>\n",
       "<style scoped>\n",
       "    .dataframe tbody tr th:only-of-type {\n",
       "        vertical-align: middle;\n",
       "    }\n",
       "\n",
       "    .dataframe tbody tr th {\n",
       "        vertical-align: top;\n",
       "    }\n",
       "\n",
       "    .dataframe thead th {\n",
       "        text-align: right;\n",
       "    }\n",
       "</style>\n",
       "<table border=\"1\" class=\"dataframe\">\n",
       "  <thead>\n",
       "    <tr style=\"text-align: right;\">\n",
       "      <th></th>\n",
       "      <th>CDSCode</th>\n",
       "      <th>NCESDist</th>\n",
       "      <th>NCESSchool</th>\n",
       "      <th>StatusType</th>\n",
       "      <th>County</th>\n",
       "      <th>District</th>\n",
       "      <th>School</th>\n",
       "      <th>Street</th>\n",
       "      <th>StreetAbr</th>\n",
       "      <th>City</th>\n",
       "      <th>...</th>\n",
       "      <th>AdmEmail1</th>\n",
       "      <th>AdmFName2</th>\n",
       "      <th>AdmLName2</th>\n",
       "      <th>AdmEmail2</th>\n",
       "      <th>AdmFName3</th>\n",
       "      <th>AdmLName3</th>\n",
       "      <th>AdmEmail3</th>\n",
       "      <th>LastUpDate</th>\n",
       "      <th>time</th>\n",
       "      <th>year</th>\n",
       "    </tr>\n",
       "  </thead>\n",
       "  <tbody>\n",
       "  </tbody>\n",
       "</table>\n",
       "<p>0 rows × 53 columns</p>\n",
       "</div>"
      ],
      "text/plain": [
       "Empty DataFrame\n",
       "Columns: [CDSCode, NCESDist, NCESSchool, StatusType, County, District, School, Street, StreetAbr, City, Zip, State, MailStreet, MailStrAbr, MailCity, MailZip, MailState, Phone, Ext, WebSite, OpenDate, ClosedDate, Charter, CharterNum, FundingType, DOC, DOCType, SOC, SOCType, EdOpsCode, EdOpsName, EILCode, EILName, GSoffered, GSserved, Virtual, Magnet, YearRoundYN, FederalDFCDistrictID, Latitude, Longitude, AdmFName1, AdmLName1, AdmEmail1, AdmFName2, AdmLName2, AdmEmail2, AdmFName3, AdmLName3, AdmEmail3, LastUpDate, time, year]\n",
       "Index: []\n",
       "\n",
       "[0 rows x 53 columns]"
      ]
     },
     "execution_count": 62,
     "metadata": {},
     "output_type": "execute_result"
    }
   ],
   "source": [
    "# Closed, merged and nan rows should be cleaned/We will work on Active/Merged schools\n",
    "\n",
    "ps_since2016.loc[(ps_since2016[\"StatusType\"] == \"Active\") & (ps_since2016[\"StatusType\"] == \"Merged\")]\n"
   ]
  },
  {
   "cell_type": "code",
   "execution_count": 66,
   "metadata": {},
   "outputs": [
    {
     "data": {
      "text/plain": [
       "11478"
      ]
     },
     "execution_count": 66,
     "metadata": {},
     "output_type": "execute_result"
    }
   ],
   "source": [
    "active_ps = ps_since2016[ps_since2016[\"StatusType\"].isin([\"Active\", \"Merged\"])]\n",
    "active_ps[\"School\"].count()"
   ]
  },
  {
   "cell_type": "code",
   "execution_count": 67,
   "metadata": {},
   "outputs": [
    {
     "data": {
      "text/plain": [
       "array(['No Data', 'N', 'Y'], dtype=object)"
      ]
     },
     "execution_count": 67,
     "metadata": {},
     "output_type": "execute_result"
    }
   ],
   "source": [
    "active_ps[\"Magnet\"].unique()"
   ]
  },
  {
   "cell_type": "code",
   "execution_count": 68,
   "metadata": {},
   "outputs": [
    {
     "data": {
      "text/plain": [
       "531"
      ]
     },
     "execution_count": 68,
     "metadata": {},
     "output_type": "execute_result"
    }
   ],
   "source": [
    "# https://www.cde.ca.gov/sp/eo/mt/index.asp\n",
    "# Magnet schools focus on a special area of study, such as science, the performing arts, or career education.\n",
    "# A magnet school is an entire school with a special focus.\n",
    "# We can see caasps results in specific area and compare with other public schools\n",
    "\n",
    "# Number of public schools are in Magnet Program\n",
    "len(active_ps.loc[active_ps[\"Magnet\"] == \"Y\"])\n",
    "\n",
    "#Can we see which are that magnet school focuses?"
   ]
  },
  {
   "cell_type": "code",
   "execution_count": 69,
   "metadata": {},
   "outputs": [
    {
     "data": {
      "text/plain": [
       "1305"
      ]
     },
     "execution_count": 69,
     "metadata": {},
     "output_type": "execute_result"
    }
   ],
   "source": [
    "# Number of public schools are Charter school\n",
    "len(active_ps.loc[active_ps[\"Charter\"] == \"Y\"])\n"
   ]
  },
  {
   "cell_type": "code",
   "execution_count": 70,
   "metadata": {},
   "outputs": [
    {
     "data": {
      "text/plain": [
       "737"
      ]
     },
     "execution_count": 70,
     "metadata": {},
     "output_type": "execute_result"
    }
   ],
   "source": [
    "# Number of Public Schools use Year Round Education Program\n",
    "# We can compare success of schools uses not-common year round program and normal school calendar. \n",
    "# https://www.cde.ca.gov/ls/fa/yr/guide.asp\n",
    "\n",
    "len(active_ps.loc[active_ps[\"YearRoundYN\"] == \"Y\"])"
   ]
  },
  {
   "cell_type": "code",
   "execution_count": 71,
   "metadata": {},
   "outputs": [
    {
     "data": {
      "text/plain": [
       "array(['No Data', 'Directly funded', 'Locally funded'], dtype=object)"
      ]
     },
     "execution_count": 71,
     "metadata": {},
     "output_type": "execute_result"
    }
   ],
   "source": [
    "# We can compare success of directly funded and locally funded public schools\n",
    "# and see the difference between funded schools and no data/nan/not in CS funding models columns\n",
    "\n",
    "active_ps[\"FundingType\"].unique()"
   ]
  },
  {
   "cell_type": "code",
   "execution_count": 74,
   "metadata": {},
   "outputs": [
    {
     "data": {
      "text/plain": [
       "array(['No Data', 'HS', 'ELEM', 'INTMIDJR', 'ELEMHIGH', 'PS', 'A', 'UG'],\n",
       "      dtype=object)"
      ]
     },
     "execution_count": 74,
     "metadata": {},
     "output_type": "execute_result"
    }
   ],
   "source": [
    "# EILCode represent school types, if we limit the study among high schools.\n",
    "active_ps[\"EILCode\"].unique()"
   ]
  },
  {
   "cell_type": "code",
   "execution_count": 80,
   "metadata": {},
   "outputs": [
    {
     "data": {
      "text/plain": [
       "array(['No Data', 'High School', 'Elementary',\n",
       "       'Intermediate/Middle/Junior High', 'Elementary-High Combination',\n",
       "       'Preschool', 'Adult', 'Ungraded'], dtype=object)"
      ]
     },
     "execution_count": 80,
     "metadata": {},
     "output_type": "execute_result"
    }
   ],
   "source": [
    "active_ps[\"EILName\"].unique()"
   ]
  },
  {
   "cell_type": "code",
   "execution_count": 86,
   "metadata": {},
   "outputs": [
    {
     "data": {
      "text/html": [
       "<div>\n",
       "<style scoped>\n",
       "    .dataframe tbody tr th:only-of-type {\n",
       "        vertical-align: middle;\n",
       "    }\n",
       "\n",
       "    .dataframe tbody tr th {\n",
       "        vertical-align: top;\n",
       "    }\n",
       "\n",
       "    .dataframe thead th {\n",
       "        text-align: right;\n",
       "    }\n",
       "</style>\n",
       "<table border=\"1\" class=\"dataframe\">\n",
       "  <thead>\n",
       "    <tr style=\"text-align: right;\">\n",
       "      <th></th>\n",
       "      <th>CDSCode</th>\n",
       "      <th>StatusType</th>\n",
       "      <th>County</th>\n",
       "      <th>District</th>\n",
       "      <th>School</th>\n",
       "      <th>EILName</th>\n",
       "      <th>OpenDate</th>\n",
       "      <th>Charter</th>\n",
       "      <th>Magnet</th>\n",
       "      <th>YearRoundYN</th>\n",
       "      <th>FundingType</th>\n",
       "    </tr>\n",
       "  </thead>\n",
       "  <tbody>\n",
       "    <tr>\n",
       "      <th>0</th>\n",
       "      <td>01100170000000</td>\n",
       "      <td>Active</td>\n",
       "      <td>Alameda</td>\n",
       "      <td>Alameda County Office of Education</td>\n",
       "      <td>No Data</td>\n",
       "      <td>No Data</td>\n",
       "      <td>No Data</td>\n",
       "      <td>No Data</td>\n",
       "      <td>No Data</td>\n",
       "      <td>No Data</td>\n",
       "      <td>No Data</td>\n",
       "    </tr>\n",
       "    <tr>\n",
       "      <th>2</th>\n",
       "      <td>01100170112607</td>\n",
       "      <td>Active</td>\n",
       "      <td>Alameda</td>\n",
       "      <td>Alameda County Office of Education</td>\n",
       "      <td>Envision Academy for Arts &amp; Technology</td>\n",
       "      <td>High School</td>\n",
       "      <td>8/28/2006</td>\n",
       "      <td>Y</td>\n",
       "      <td>N</td>\n",
       "      <td>N</td>\n",
       "      <td>Directly funded</td>\n",
       "    </tr>\n",
       "    <tr>\n",
       "      <th>4</th>\n",
       "      <td>01100170123968</td>\n",
       "      <td>Active</td>\n",
       "      <td>Alameda</td>\n",
       "      <td>Alameda County Office of Education</td>\n",
       "      <td>Community School for Creative Education</td>\n",
       "      <td>Elementary</td>\n",
       "      <td>8/22/2011</td>\n",
       "      <td>Y</td>\n",
       "      <td>N</td>\n",
       "      <td>N</td>\n",
       "      <td>Directly funded</td>\n",
       "    </tr>\n",
       "    <tr>\n",
       "      <th>5</th>\n",
       "      <td>01100170124172</td>\n",
       "      <td>Active</td>\n",
       "      <td>Alameda</td>\n",
       "      <td>Alameda County Office of Education</td>\n",
       "      <td>Yu Ming Charter</td>\n",
       "      <td>Elementary</td>\n",
       "      <td>8/9/2011</td>\n",
       "      <td>Y</td>\n",
       "      <td>N</td>\n",
       "      <td>N</td>\n",
       "      <td>Directly funded</td>\n",
       "    </tr>\n",
       "    <tr>\n",
       "      <th>6</th>\n",
       "      <td>01100170125567</td>\n",
       "      <td>Active</td>\n",
       "      <td>Alameda</td>\n",
       "      <td>Alameda County Office of Education</td>\n",
       "      <td>Urban Montessori Charter</td>\n",
       "      <td>Elementary</td>\n",
       "      <td>8/27/2012</td>\n",
       "      <td>Y</td>\n",
       "      <td>N</td>\n",
       "      <td>N</td>\n",
       "      <td>Directly funded</td>\n",
       "    </tr>\n",
       "    <tr>\n",
       "      <th>...</th>\n",
       "      <td>...</td>\n",
       "      <td>...</td>\n",
       "      <td>...</td>\n",
       "      <td>...</td>\n",
       "      <td>...</td>\n",
       "      <td>...</td>\n",
       "      <td>...</td>\n",
       "      <td>...</td>\n",
       "      <td>...</td>\n",
       "      <td>...</td>\n",
       "      <td>...</td>\n",
       "    </tr>\n",
       "    <tr>\n",
       "      <th>179</th>\n",
       "      <td>01611760128298</td>\n",
       "      <td>Active</td>\n",
       "      <td>Alameda</td>\n",
       "      <td>Fremont Unified</td>\n",
       "      <td>Glankler Early Learning Center</td>\n",
       "      <td>Elementary</td>\n",
       "      <td>7/1/2013</td>\n",
       "      <td>N</td>\n",
       "      <td>N</td>\n",
       "      <td>N</td>\n",
       "      <td>No Data</td>\n",
       "    </tr>\n",
       "    <tr>\n",
       "      <th>180</th>\n",
       "      <td>01611760130062</td>\n",
       "      <td>Active</td>\n",
       "      <td>Alameda</td>\n",
       "      <td>Fremont Unified</td>\n",
       "      <td>American High</td>\n",
       "      <td>High School</td>\n",
       "      <td>7/1/1972</td>\n",
       "      <td>N</td>\n",
       "      <td>N</td>\n",
       "      <td>N</td>\n",
       "      <td>No Data</td>\n",
       "    </tr>\n",
       "    <tr>\n",
       "      <th>181</th>\n",
       "      <td>01611760130138</td>\n",
       "      <td>Active</td>\n",
       "      <td>Alameda</td>\n",
       "      <td>Fremont Unified</td>\n",
       "      <td>Robertson High (Continuation)</td>\n",
       "      <td>High School</td>\n",
       "      <td>7/1/1980</td>\n",
       "      <td>N</td>\n",
       "      <td>N</td>\n",
       "      <td>N</td>\n",
       "      <td>No Data</td>\n",
       "    </tr>\n",
       "    <tr>\n",
       "      <th>182</th>\n",
       "      <td>01611760130435</td>\n",
       "      <td>Active</td>\n",
       "      <td>Alameda</td>\n",
       "      <td>Fremont Unified</td>\n",
       "      <td>Vista Alternative</td>\n",
       "      <td>High School</td>\n",
       "      <td>7/1/1980</td>\n",
       "      <td>N</td>\n",
       "      <td>N</td>\n",
       "      <td>N</td>\n",
       "      <td>No Data</td>\n",
       "    </tr>\n",
       "    <tr>\n",
       "      <th>183</th>\n",
       "      <td>01611760130534</td>\n",
       "      <td>Active</td>\n",
       "      <td>Alameda</td>\n",
       "      <td>Fremont Unified</td>\n",
       "      <td>Circle of Independent Learning</td>\n",
       "      <td>Elementary-High Combination</td>\n",
       "      <td>9/9/1998</td>\n",
       "      <td>Y</td>\n",
       "      <td>N</td>\n",
       "      <td>N</td>\n",
       "      <td>Locally funded</td>\n",
       "    </tr>\n",
       "  </tbody>\n",
       "</table>\n",
       "<p>100 rows × 11 columns</p>\n",
       "</div>"
      ],
      "text/plain": [
       "            CDSCode StatusType   County                            District  \\\n",
       "0    01100170000000     Active  Alameda  Alameda County Office of Education   \n",
       "2    01100170112607     Active  Alameda  Alameda County Office of Education   \n",
       "4    01100170123968     Active  Alameda  Alameda County Office of Education   \n",
       "5    01100170124172     Active  Alameda  Alameda County Office of Education   \n",
       "6    01100170125567     Active  Alameda  Alameda County Office of Education   \n",
       "..              ...        ...      ...                                 ...   \n",
       "179  01611760128298     Active  Alameda                     Fremont Unified   \n",
       "180  01611760130062     Active  Alameda                     Fremont Unified   \n",
       "181  01611760130138     Active  Alameda                     Fremont Unified   \n",
       "182  01611760130435     Active  Alameda                     Fremont Unified   \n",
       "183  01611760130534     Active  Alameda                     Fremont Unified   \n",
       "\n",
       "                                      School                      EILName  \\\n",
       "0                                    No Data                      No Data   \n",
       "2     Envision Academy for Arts & Technology                  High School   \n",
       "4    Community School for Creative Education                   Elementary   \n",
       "5                            Yu Ming Charter                   Elementary   \n",
       "6                   Urban Montessori Charter                   Elementary   \n",
       "..                                       ...                          ...   \n",
       "179           Glankler Early Learning Center                   Elementary   \n",
       "180                            American High                  High School   \n",
       "181            Robertson High (Continuation)                  High School   \n",
       "182                        Vista Alternative                  High School   \n",
       "183           Circle of Independent Learning  Elementary-High Combination   \n",
       "\n",
       "      OpenDate  Charter   Magnet YearRoundYN      FundingType  \n",
       "0      No Data  No Data  No Data     No Data          No Data  \n",
       "2    8/28/2006        Y        N           N  Directly funded  \n",
       "4    8/22/2011        Y        N           N  Directly funded  \n",
       "5     8/9/2011        Y        N           N  Directly funded  \n",
       "6    8/27/2012        Y        N           N  Directly funded  \n",
       "..         ...      ...      ...         ...              ...  \n",
       "179   7/1/2013        N        N           N          No Data  \n",
       "180   7/1/1972        N        N           N          No Data  \n",
       "181   7/1/1980        N        N           N          No Data  \n",
       "182   7/1/1980        N        N           N          No Data  \n",
       "183   9/9/1998        Y        N           N   Locally funded  \n",
       "\n",
       "[100 rows x 11 columns]"
      ]
     },
     "execution_count": 86,
     "metadata": {},
     "output_type": "execute_result"
    }
   ],
   "source": [
    "public_schools20162020 = active_ps[[\"CDSCode\", \"StatusType\", \"County\", \"District\", \"School\",\"EILName\", \"OpenDate\",\n",
    "                                 \"Charter\",\"Magnet\", \"YearRoundYN\", \"FundingType\"]]\n",
    "public_schools20162020.head(100)"
   ]
  },
  {
   "cell_type": "code",
   "execution_count": 90,
   "metadata": {},
   "outputs": [],
   "source": [
    "\n",
    "public_schools20162020.to_csv(r'C:\\Users\\Rabia\\Desktop\\public_schools20162020.csv', index=False) "
   ]
  },
  {
   "cell_type": "code",
   "execution_count": 83,
   "metadata": {},
   "outputs": [],
   "source": [
    "path = \"sb_ca2016v4.csv\"\n",
    "a = pd.read_csv(path)"
   ]
  },
  {
   "cell_type": "code",
   "execution_count": 95,
   "metadata": {},
   "outputs": [
    {
     "data": {
      "text/plain": [
       "Index(['County Code', 'District Code', 'School Code', 'Filler', 'Test Year',\n",
       "       'Subgroup ID', 'Test Type', 'Total Tested At Entity Level',\n",
       "       'Total Tested with Scores', 'Grade', 'Test Id',\n",
       "       'CAASPP Reported Enrollment', 'Students Tested', 'Mean Scale Score',\n",
       "       'Percentage Standard Exceeded', 'Percentage Standard Met',\n",
       "       'Percentage Standard Met and Above', 'Percentage Standard Nearly Met',\n",
       "       'Percentage Standard Not Met', 'Students with Scores',\n",
       "       'Area 1 Percentage Above Standard', 'Area 1 Percentage Near Standard',\n",
       "       'Area 1 Percentage Below Standard', 'Area 2 Percentage Above Standard',\n",
       "       'Area 2 Percentage Near Standard', 'Area 2 Percentage Below Standard',\n",
       "       'Area 3 Percentage Above Standard', 'Area 3 Percentage Near Standard',\n",
       "       'Area 3 Percentage Below Standard', 'Area 4 Percentage Above Standard',\n",
       "       'Area 4 Percentage Near Standard', 'Area 4 Percentage Below Standard',\n",
       "       'CDSCode'],\n",
       "      dtype='object')"
      ]
     },
     "execution_count": 95,
     "metadata": {},
     "output_type": "execute_result"
    }
   ],
   "source": [
    "a.columns"
   ]
  },
  {
   "cell_type": "code",
   "execution_count": 96,
   "metadata": {},
   "outputs": [
    {
     "data": {
      "text/html": [
       "<div>\n",
       "<style scoped>\n",
       "    .dataframe tbody tr th:only-of-type {\n",
       "        vertical-align: middle;\n",
       "    }\n",
       "\n",
       "    .dataframe tbody tr th {\n",
       "        vertical-align: top;\n",
       "    }\n",
       "\n",
       "    .dataframe thead th {\n",
       "        text-align: right;\n",
       "    }\n",
       "</style>\n",
       "<table border=\"1\" class=\"dataframe\">\n",
       "  <thead>\n",
       "    <tr style=\"text-align: right;\">\n",
       "      <th></th>\n",
       "      <th>County Code</th>\n",
       "      <th>District Code</th>\n",
       "      <th>School Code</th>\n",
       "      <th>Filler</th>\n",
       "      <th>Test Year</th>\n",
       "      <th>Subgroup ID</th>\n",
       "      <th>Test Type</th>\n",
       "      <th>Total Tested At Entity Level</th>\n",
       "      <th>Total Tested with Scores</th>\n",
       "      <th>Grade</th>\n",
       "      <th>...</th>\n",
       "      <th>Area 2 Percentage Above Standard</th>\n",
       "      <th>Area 2 Percentage Near Standard</th>\n",
       "      <th>Area 2 Percentage Below Standard</th>\n",
       "      <th>Area 3 Percentage Above Standard</th>\n",
       "      <th>Area 3 Percentage Near Standard</th>\n",
       "      <th>Area 3 Percentage Below Standard</th>\n",
       "      <th>Area 4 Percentage Above Standard</th>\n",
       "      <th>Area 4 Percentage Near Standard</th>\n",
       "      <th>Area 4 Percentage Below Standard</th>\n",
       "      <th>CDSCode</th>\n",
       "    </tr>\n",
       "  </thead>\n",
       "  <tbody>\n",
       "    <tr>\n",
       "      <th>0</th>\n",
       "      <td>0</td>\n",
       "      <td>0</td>\n",
       "      <td>0</td>\n",
       "      <td>NaN</td>\n",
       "      <td>2019</td>\n",
       "      <td>1</td>\n",
       "      <td>B</td>\n",
       "      <td>3165580.0</td>\n",
       "      <td>3162910.0</td>\n",
       "      <td>3</td>\n",
       "      <td>...</td>\n",
       "      <td>20.83</td>\n",
       "      <td>49.66</td>\n",
       "      <td>29.50</td>\n",
       "      <td>21.89</td>\n",
       "      <td>61.25</td>\n",
       "      <td>16.86</td>\n",
       "      <td>24.14</td>\n",
       "      <td>48.16</td>\n",
       "      <td>27.70</td>\n",
       "      <td>0</td>\n",
       "    </tr>\n",
       "    <tr>\n",
       "      <th>1</th>\n",
       "      <td>0</td>\n",
       "      <td>0</td>\n",
       "      <td>0</td>\n",
       "      <td>NaN</td>\n",
       "      <td>2019</td>\n",
       "      <td>3</td>\n",
       "      <td>B</td>\n",
       "      <td>1616938.0</td>\n",
       "      <td>1615465.0</td>\n",
       "      <td>3</td>\n",
       "      <td>...</td>\n",
       "      <td>17.93</td>\n",
       "      <td>49.03</td>\n",
       "      <td>33.04</td>\n",
       "      <td>20.66</td>\n",
       "      <td>60.54</td>\n",
       "      <td>18.81</td>\n",
       "      <td>22.66</td>\n",
       "      <td>46.69</td>\n",
       "      <td>30.65</td>\n",
       "      <td>0</td>\n",
       "    </tr>\n",
       "    <tr>\n",
       "      <th>2</th>\n",
       "      <td>0</td>\n",
       "      <td>0</td>\n",
       "      <td>0</td>\n",
       "      <td>NaN</td>\n",
       "      <td>2019</td>\n",
       "      <td>4</td>\n",
       "      <td>B</td>\n",
       "      <td>1548642.0</td>\n",
       "      <td>1547445.0</td>\n",
       "      <td>3</td>\n",
       "      <td>...</td>\n",
       "      <td>23.85</td>\n",
       "      <td>50.32</td>\n",
       "      <td>25.83</td>\n",
       "      <td>23.17</td>\n",
       "      <td>61.99</td>\n",
       "      <td>14.84</td>\n",
       "      <td>25.68</td>\n",
       "      <td>49.69</td>\n",
       "      <td>24.63</td>\n",
       "      <td>0</td>\n",
       "    </tr>\n",
       "    <tr>\n",
       "      <th>3</th>\n",
       "      <td>0</td>\n",
       "      <td>0</td>\n",
       "      <td>0</td>\n",
       "      <td>NaN</td>\n",
       "      <td>2019</td>\n",
       "      <td>6</td>\n",
       "      <td>B</td>\n",
       "      <td>2651676.0</td>\n",
       "      <td>2649540.0</td>\n",
       "      <td>3</td>\n",
       "      <td>...</td>\n",
       "      <td>25.12</td>\n",
       "      <td>51.92</td>\n",
       "      <td>22.96</td>\n",
       "      <td>26.17</td>\n",
       "      <td>61.23</td>\n",
       "      <td>12.60</td>\n",
       "      <td>28.93</td>\n",
       "      <td>49.45</td>\n",
       "      <td>21.62</td>\n",
       "      <td>0</td>\n",
       "    </tr>\n",
       "    <tr>\n",
       "      <th>4</th>\n",
       "      <td>0</td>\n",
       "      <td>0</td>\n",
       "      <td>0</td>\n",
       "      <td>NaN</td>\n",
       "      <td>2019</td>\n",
       "      <td>7</td>\n",
       "      <td>B</td>\n",
       "      <td>132465.0</td>\n",
       "      <td>132405.0</td>\n",
       "      <td>3</td>\n",
       "      <td>...</td>\n",
       "      <td>42.74</td>\n",
       "      <td>47.23</td>\n",
       "      <td>10.03</td>\n",
       "      <td>42.25</td>\n",
       "      <td>53.14</td>\n",
       "      <td>4.60</td>\n",
       "      <td>47.75</td>\n",
       "      <td>43.21</td>\n",
       "      <td>9.04</td>\n",
       "      <td>0</td>\n",
       "    </tr>\n",
       "  </tbody>\n",
       "</table>\n",
       "<p>5 rows × 33 columns</p>\n",
       "</div>"
      ],
      "text/plain": [
       "   County Code  District Code  School Code  Filler  Test Year  Subgroup ID  \\\n",
       "0            0              0            0     NaN       2019            1   \n",
       "1            0              0            0     NaN       2019            3   \n",
       "2            0              0            0     NaN       2019            4   \n",
       "3            0              0            0     NaN       2019            6   \n",
       "4            0              0            0     NaN       2019            7   \n",
       "\n",
       "  Test Type  Total Tested At Entity Level  Total Tested with Scores  Grade  \\\n",
       "0         B                     3165580.0                 3162910.0      3   \n",
       "1         B                     1616938.0                 1615465.0      3   \n",
       "2         B                     1548642.0                 1547445.0      3   \n",
       "3         B                     2651676.0                 2649540.0      3   \n",
       "4         B                      132465.0                  132405.0      3   \n",
       "\n",
       "   ...  Area 2 Percentage Above Standard  Area 2 Percentage Near Standard  \\\n",
       "0  ...                             20.83                            49.66   \n",
       "1  ...                             17.93                            49.03   \n",
       "2  ...                             23.85                            50.32   \n",
       "3  ...                             25.12                            51.92   \n",
       "4  ...                             42.74                            47.23   \n",
       "\n",
       "   Area 2 Percentage Below Standard  Area 3 Percentage Above Standard  \\\n",
       "0                             29.50                             21.89   \n",
       "1                             33.04                             20.66   \n",
       "2                             25.83                             23.17   \n",
       "3                             22.96                             26.17   \n",
       "4                             10.03                             42.25   \n",
       "\n",
       "   Area 3 Percentage Near Standard  Area 3 Percentage Below Standard  \\\n",
       "0                            61.25                             16.86   \n",
       "1                            60.54                             18.81   \n",
       "2                            61.99                             14.84   \n",
       "3                            61.23                             12.60   \n",
       "4                            53.14                              4.60   \n",
       "\n",
       "   Area 4 Percentage Above Standard  Area 4 Percentage Near Standard  \\\n",
       "0                             24.14                            48.16   \n",
       "1                             22.66                            46.69   \n",
       "2                             25.68                            49.69   \n",
       "3                             28.93                            49.45   \n",
       "4                             47.75                            43.21   \n",
       "\n",
       "   Area 4 Percentage Below Standard  CDSCode  \n",
       "0                             27.70        0  \n",
       "1                             30.65        0  \n",
       "2                             24.63        0  \n",
       "3                             21.62        0  \n",
       "4                              9.04        0  \n",
       "\n",
       "[5 rows x 33 columns]"
      ]
     },
     "execution_count": 96,
     "metadata": {},
     "output_type": "execute_result"
    }
   ],
   "source": [
    "a.head()"
   ]
  },
  {
   "cell_type": "code",
   "execution_count": 94,
   "metadata": {},
   "outputs": [
    {
     "data": {
      "text/plain": [
       "Index(['CDSCode', 'CAASPP Reported Enrollment', 'Students Tested',\n",
       "       'Percentage Standard Exceeded', 'Percentage Standard Met',\n",
       "       'Percentage Standard Met and Above', 'Percentage Standard Nearly Met',\n",
       "       'Percentage Standard Not Met', 'Students with Scores', 'School',\n",
       "       'County', 'Charter', 'Magnet', 'EILCode'],\n",
       "      dtype='object')"
      ]
     },
     "execution_count": 94,
     "metadata": {},
     "output_type": "execute_result"
    }
   ],
   "source": [
    "path = \"combined_data.csv\"\n",
    "combined_data = pd.read_csv(path)\n",
    "combined_data.columns"
   ]
  },
  {
   "cell_type": "code",
   "execution_count": null,
   "metadata": {},
   "outputs": [],
   "source": []
  },
  {
   "cell_type": "code",
   "execution_count": 92,
   "metadata": {},
   "outputs": [],
   "source": []
  },
  {
   "cell_type": "code",
   "execution_count": 93,
   "metadata": {},
   "outputs": [
    {
     "data": {
      "text/html": [
       "<div>\n",
       "<style scoped>\n",
       "    .dataframe tbody tr th:only-of-type {\n",
       "        vertical-align: middle;\n",
       "    }\n",
       "\n",
       "    .dataframe tbody tr th {\n",
       "        vertical-align: top;\n",
       "    }\n",
       "\n",
       "    .dataframe thead th {\n",
       "        text-align: right;\n",
       "    }\n",
       "</style>\n",
       "<table border=\"1\" class=\"dataframe\">\n",
       "  <thead>\n",
       "    <tr style=\"text-align: right;\">\n",
       "      <th></th>\n",
       "      <th>County Code</th>\n",
       "      <th>District Code</th>\n",
       "      <th>School Code</th>\n",
       "      <th>Filler</th>\n",
       "      <th>Test Year</th>\n",
       "      <th>Subgroup ID</th>\n",
       "      <th>Test Type</th>\n",
       "      <th>Total Tested At Entity Level</th>\n",
       "      <th>Total Tested with Scores</th>\n",
       "      <th>Grade</th>\n",
       "      <th>...</th>\n",
       "      <th>Area 2 Percentage Above Standard</th>\n",
       "      <th>Area 2 Percentage Near Standard</th>\n",
       "      <th>Area 2 Percentage Below Standard</th>\n",
       "      <th>Area 3 Percentage Above Standard</th>\n",
       "      <th>Area 3 Percentage Near Standard</th>\n",
       "      <th>Area 3 Percentage Below Standard</th>\n",
       "      <th>Area 4 Percentage Above Standard</th>\n",
       "      <th>Area 4 Percentage Near Standard</th>\n",
       "      <th>Area 4 Percentage Below Standard</th>\n",
       "      <th>CDSCode</th>\n",
       "    </tr>\n",
       "  </thead>\n",
       "  <tbody>\n",
       "    <tr>\n",
       "      <th>0</th>\n",
       "      <td>0</td>\n",
       "      <td>0</td>\n",
       "      <td>0</td>\n",
       "      <td>NaN</td>\n",
       "      <td>2019</td>\n",
       "      <td>1</td>\n",
       "      <td>B</td>\n",
       "      <td>3165580.0</td>\n",
       "      <td>3162910.0</td>\n",
       "      <td>3</td>\n",
       "      <td>...</td>\n",
       "      <td>20.83</td>\n",
       "      <td>49.66</td>\n",
       "      <td>29.50</td>\n",
       "      <td>21.89</td>\n",
       "      <td>61.25</td>\n",
       "      <td>16.86</td>\n",
       "      <td>24.14</td>\n",
       "      <td>48.16</td>\n",
       "      <td>27.70</td>\n",
       "      <td>0</td>\n",
       "    </tr>\n",
       "    <tr>\n",
       "      <th>1</th>\n",
       "      <td>0</td>\n",
       "      <td>0</td>\n",
       "      <td>0</td>\n",
       "      <td>NaN</td>\n",
       "      <td>2019</td>\n",
       "      <td>3</td>\n",
       "      <td>B</td>\n",
       "      <td>1616938.0</td>\n",
       "      <td>1615465.0</td>\n",
       "      <td>3</td>\n",
       "      <td>...</td>\n",
       "      <td>17.93</td>\n",
       "      <td>49.03</td>\n",
       "      <td>33.04</td>\n",
       "      <td>20.66</td>\n",
       "      <td>60.54</td>\n",
       "      <td>18.81</td>\n",
       "      <td>22.66</td>\n",
       "      <td>46.69</td>\n",
       "      <td>30.65</td>\n",
       "      <td>0</td>\n",
       "    </tr>\n",
       "    <tr>\n",
       "      <th>2</th>\n",
       "      <td>0</td>\n",
       "      <td>0</td>\n",
       "      <td>0</td>\n",
       "      <td>NaN</td>\n",
       "      <td>2019</td>\n",
       "      <td>4</td>\n",
       "      <td>B</td>\n",
       "      <td>1548642.0</td>\n",
       "      <td>1547445.0</td>\n",
       "      <td>3</td>\n",
       "      <td>...</td>\n",
       "      <td>23.85</td>\n",
       "      <td>50.32</td>\n",
       "      <td>25.83</td>\n",
       "      <td>23.17</td>\n",
       "      <td>61.99</td>\n",
       "      <td>14.84</td>\n",
       "      <td>25.68</td>\n",
       "      <td>49.69</td>\n",
       "      <td>24.63</td>\n",
       "      <td>0</td>\n",
       "    </tr>\n",
       "    <tr>\n",
       "      <th>3</th>\n",
       "      <td>0</td>\n",
       "      <td>0</td>\n",
       "      <td>0</td>\n",
       "      <td>NaN</td>\n",
       "      <td>2019</td>\n",
       "      <td>6</td>\n",
       "      <td>B</td>\n",
       "      <td>2651676.0</td>\n",
       "      <td>2649540.0</td>\n",
       "      <td>3</td>\n",
       "      <td>...</td>\n",
       "      <td>25.12</td>\n",
       "      <td>51.92</td>\n",
       "      <td>22.96</td>\n",
       "      <td>26.17</td>\n",
       "      <td>61.23</td>\n",
       "      <td>12.60</td>\n",
       "      <td>28.93</td>\n",
       "      <td>49.45</td>\n",
       "      <td>21.62</td>\n",
       "      <td>0</td>\n",
       "    </tr>\n",
       "    <tr>\n",
       "      <th>4</th>\n",
       "      <td>0</td>\n",
       "      <td>0</td>\n",
       "      <td>0</td>\n",
       "      <td>NaN</td>\n",
       "      <td>2019</td>\n",
       "      <td>7</td>\n",
       "      <td>B</td>\n",
       "      <td>132465.0</td>\n",
       "      <td>132405.0</td>\n",
       "      <td>3</td>\n",
       "      <td>...</td>\n",
       "      <td>42.74</td>\n",
       "      <td>47.23</td>\n",
       "      <td>10.03</td>\n",
       "      <td>42.25</td>\n",
       "      <td>53.14</td>\n",
       "      <td>4.60</td>\n",
       "      <td>47.75</td>\n",
       "      <td>43.21</td>\n",
       "      <td>9.04</td>\n",
       "      <td>0</td>\n",
       "    </tr>\n",
       "  </tbody>\n",
       "</table>\n",
       "<p>5 rows × 33 columns</p>\n",
       "</div>"
      ],
      "text/plain": [
       "   County Code  District Code  School Code  Filler  Test Year  Subgroup ID  \\\n",
       "0            0              0            0     NaN       2019            1   \n",
       "1            0              0            0     NaN       2019            3   \n",
       "2            0              0            0     NaN       2019            4   \n",
       "3            0              0            0     NaN       2019            6   \n",
       "4            0              0            0     NaN       2019            7   \n",
       "\n",
       "  Test Type  Total Tested At Entity Level  Total Tested with Scores  Grade  \\\n",
       "0         B                     3165580.0                 3162910.0      3   \n",
       "1         B                     1616938.0                 1615465.0      3   \n",
       "2         B                     1548642.0                 1547445.0      3   \n",
       "3         B                     2651676.0                 2649540.0      3   \n",
       "4         B                      132465.0                  132405.0      3   \n",
       "\n",
       "   ...  Area 2 Percentage Above Standard  Area 2 Percentage Near Standard  \\\n",
       "0  ...                             20.83                            49.66   \n",
       "1  ...                             17.93                            49.03   \n",
       "2  ...                             23.85                            50.32   \n",
       "3  ...                             25.12                            51.92   \n",
       "4  ...                             42.74                            47.23   \n",
       "\n",
       "   Area 2 Percentage Below Standard  Area 3 Percentage Above Standard  \\\n",
       "0                             29.50                             21.89   \n",
       "1                             33.04                             20.66   \n",
       "2                             25.83                             23.17   \n",
       "3                             22.96                             26.17   \n",
       "4                             10.03                             42.25   \n",
       "\n",
       "   Area 3 Percentage Near Standard  Area 3 Percentage Below Standard  \\\n",
       "0                            61.25                             16.86   \n",
       "1                            60.54                             18.81   \n",
       "2                            61.99                             14.84   \n",
       "3                            61.23                             12.60   \n",
       "4                            53.14                              4.60   \n",
       "\n",
       "   Area 4 Percentage Above Standard  Area 4 Percentage Near Standard  \\\n",
       "0                             24.14                            48.16   \n",
       "1                             22.66                            46.69   \n",
       "2                             25.68                            49.69   \n",
       "3                             28.93                            49.45   \n",
       "4                             47.75                            43.21   \n",
       "\n",
       "   Area 4 Percentage Below Standard  CDSCode  \n",
       "0                             27.70        0  \n",
       "1                             30.65        0  \n",
       "2                             24.63        0  \n",
       "3                             21.62        0  \n",
       "4                              9.04        0  \n",
       "\n",
       "[5 rows x 33 columns]"
      ]
     },
     "execution_count": 93,
     "metadata": {},
     "output_type": "execute_result"
    }
   ],
   "source": []
  },
  {
   "cell_type": "code",
   "execution_count": null,
   "metadata": {},
   "outputs": [],
   "source": []
  }
 ],
 "metadata": {
  "kernelspec": {
   "display_name": "Python 3",
   "language": "python",
   "name": "python3"
  },
  "language_info": {
   "codemirror_mode": {
    "name": "ipython",
    "version": 3
   },
   "file_extension": ".py",
   "mimetype": "text/x-python",
   "name": "python",
   "nbconvert_exporter": "python",
   "pygments_lexer": "ipython3",
   "version": "3.6.10"
  }
 },
 "nbformat": 4,
 "nbformat_minor": 4
}
