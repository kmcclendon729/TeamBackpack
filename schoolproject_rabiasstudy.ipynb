{
 "cells": [
  {
   "cell_type": "markdown",
   "metadata": {},
   "source": [
    "#                                             2016-2019 Public School Comparison by California's Smarter Balanced Assessment Results"
   ]
  },
  {
   "cell_type": "markdown",
   "metadata": {},
   "source": [
    "## California Public Schools Information 2016-2019\n",
    "\n",
    "Resource: California Department of Education\n",
    "\n",
    "Link: https://www.cde.ca.gov/ds/si/ds/pubschls.asp"
   ]
  },
  {
   "cell_type": "code",
   "execution_count": 69,
   "metadata": {},
   "outputs": [],
   "source": [
    "import pandas as pd"
   ]
  },
  {
   "cell_type": "code",
   "execution_count": 70,
   "metadata": {},
   "outputs": [],
   "source": [
    "pubschls = \"pubschls.csv\"\n",
    "public_schools = pd.read_csv(pubschls, low_memory=False)"
   ]
  },
  {
   "cell_type": "code",
   "execution_count": 71,
   "metadata": {},
   "outputs": [
    {
     "data": {
      "text/plain": [
       "Index(['CDSCode', 'NCESDist', 'NCESSchool', 'StatusType', 'County', 'District',\n",
       "       'School', 'Street', 'StreetAbr', 'City', 'Zip', 'State', 'MailStreet',\n",
       "       'MailStrAbr', 'MailCity', 'MailZip', 'MailState', 'Phone', 'Ext',\n",
       "       'WebSite', 'OpenDate', 'ClosedDate', 'Charter', 'CharterNum',\n",
       "       'FundingType', 'DOC', 'DOCType', 'SOC', 'SOCType', 'EdOpsCode',\n",
       "       'EdOpsName', 'EILCode', 'EILName', 'GSoffered', 'GSserved', 'Virtual',\n",
       "       'Magnet', 'YearRoundYN', 'FederalDFCDistrictID', 'Latitude',\n",
       "       'Longitude', 'AdmFName1', 'AdmLName1', 'AdmEmail1', 'AdmFName2',\n",
       "       'AdmLName2', 'AdmEmail2', 'AdmFName3', 'AdmLName3', 'AdmEmail3',\n",
       "       'LastUpDate'],\n",
       "      dtype='object')"
      ]
     },
     "execution_count": 71,
     "metadata": {},
     "output_type": "execute_result"
    }
   ],
   "source": [
    "public_schools.columns"
   ]
  },
  {
   "cell_type": "code",
   "execution_count": 72,
   "metadata": {},
   "outputs": [
    {
     "data": {
      "text/plain": [
       "18104"
      ]
     },
     "execution_count": 72,
     "metadata": {},
     "output_type": "execute_result"
    }
   ],
   "source": [
    "# Number of schools in raw data\n",
    "public_schools[\"School\"].count()"
   ]
  },
  {
   "cell_type": "code",
   "execution_count": 73,
   "metadata": {},
   "outputs": [
    {
     "data": {
      "text/plain": [
       "0        5/31/2019\n",
       "1         9/1/2015\n",
       "2         7/1/2019\n",
       "3         7/1/2015\n",
       "4        2/13/2019\n",
       "           ...    \n",
       "18100    6/24/1999\n",
       "18101    6/24/1999\n",
       "18102     7/2/2013\n",
       "18103    2/13/2019\n",
       "18104          NaN\n",
       "Name: LastUpDate, Length: 18105, dtype: object"
      ]
     },
     "execution_count": 73,
     "metadata": {},
     "output_type": "execute_result"
    }
   ],
   "source": [
    "# Check year range of raw data\n",
    "public_schools[\"LastUpDate\"]"
   ]
  },
  {
   "cell_type": "code",
   "execution_count": 74,
   "metadata": {},
   "outputs": [],
   "source": [
    "#Clean Nan and No Data values of date column\n",
    "public_schools = public_schools.loc[public_schools['LastUpDate']!= 'No Data']\n",
    "public_schools['LastUpDate']= public_schools['LastUpDate'].dropna()"
   ]
  },
  {
   "cell_type": "code",
   "execution_count": 75,
   "metadata": {},
   "outputs": [],
   "source": [
    "# Convert datetime to get most current information\n",
    "public_schools['time'] = pd.to_datetime(public_schools['LastUpDate'])"
   ]
  },
  {
   "cell_type": "code",
   "execution_count": 76,
   "metadata": {},
   "outputs": [],
   "source": [
    "# Create a 'year' column to filter by years\n",
    "public_schools['year'] = public_schools['time'].dt.year "
   ]
  },
  {
   "cell_type": "code",
   "execution_count": 77,
   "metadata": {},
   "outputs": [
    {
     "data": {
      "text/plain": [
       "11881"
      ]
     },
     "execution_count": 77,
     "metadata": {},
     "output_type": "execute_result"
    }
   ],
   "source": [
    "# Number of public schools information last 4 year\n",
    "len(public_schools.loc[public_schools[\"year\"] > 2016])"
   ]
  },
  {
   "cell_type": "code",
   "execution_count": 78,
   "metadata": {},
   "outputs": [],
   "source": [
    "# Create a new dataframe of public school information since 2016\n",
    "ps_since2016 = public_schools.loc[public_schools[\"year\"] > 2015]"
   ]
  },
  {
   "cell_type": "code",
   "execution_count": 79,
   "metadata": {},
   "outputs": [
    {
     "data": {
      "text/plain": [
       "array(['Active', 'Closed', 'Merged', 'Pending'], dtype=object)"
      ]
     },
     "execution_count": 79,
     "metadata": {},
     "output_type": "execute_result"
    }
   ],
   "source": [
    "# Check status types of schools\n",
    "ps_since2016[\"StatusType\"].unique()"
   ]
  },
  {
   "cell_type": "code",
   "execution_count": 80,
   "metadata": {},
   "outputs": [],
   "source": [
    "# Closed, merged and nan rows should be cleaned/We will work on Active/Merged schools"
   ]
  },
  {
   "cell_type": "code",
   "execution_count": 81,
   "metadata": {},
   "outputs": [],
   "source": [
    "active_ps = ps_since2016[ps_since2016[\"StatusType\"].isin([\"Active\", \"Merged\"])]"
   ]
  },
  {
   "cell_type": "code",
   "execution_count": 82,
   "metadata": {},
   "outputs": [
    {
     "data": {
      "text/plain": [
       "11600"
      ]
     },
     "execution_count": 82,
     "metadata": {},
     "output_type": "execute_result"
    }
   ],
   "source": [
    "# Number of Active and Merged Public Schools after 2016\n",
    "active_ps[\"School\"].count()"
   ]
  },
  {
   "cell_type": "markdown",
   "metadata": {},
   "source": [
    "### Magnet Schools\n",
    "\n",
    "A magnet school is an entire school with a special focus on a special area of study, such as science, the performing arts, or career education.\n",
    "\n",
    "Resource: https://www.cde.ca.gov/sp/eo/mt/index.asp"
   ]
  },
  {
   "cell_type": "code",
   "execution_count": 83,
   "metadata": {},
   "outputs": [
    {
     "data": {
      "text/plain": [
       "array(['No Data', 'N', 'Y'], dtype=object)"
      ]
     },
     "execution_count": 83,
     "metadata": {},
     "output_type": "execute_result"
    }
   ],
   "source": [
    "active_ps[\"Magnet\"].unique()"
   ]
  },
  {
   "cell_type": "code",
   "execution_count": 84,
   "metadata": {},
   "outputs": [],
   "source": [
    "active_ps = active_ps.loc[active_ps['Magnet']!= 'No Data']"
   ]
  },
  {
   "cell_type": "code",
   "execution_count": 85,
   "metadata": {},
   "outputs": [
    {
     "data": {
      "text/plain": [
       "531"
      ]
     },
     "execution_count": 85,
     "metadata": {},
     "output_type": "execute_result"
    }
   ],
   "source": [
    "# Number of public schools are in Magnet Program\n",
    "len(active_ps.loc[active_ps[\"Magnet\"] == \"Y\"])"
   ]
  },
  {
   "cell_type": "code",
   "execution_count": 86,
   "metadata": {},
   "outputs": [
    {
     "data": {
      "text/plain": [
       "array(['N', 'Y'], dtype=object)"
      ]
     },
     "execution_count": 86,
     "metadata": {},
     "output_type": "execute_result"
    }
   ],
   "source": [
    "active_ps[\"Magnet\"].unique()"
   ]
  },
  {
   "cell_type": "markdown",
   "metadata": {},
   "source": [
    "### Charter Schools\n",
    "\n",
    "A charter school is a public school governed by a contract (“charter”) between the school’s operators and a chartering authority. The chartering authority, also known as the authorizing local educational agency (LEA), can be a school district, county office of education, or the State Board of Education (SBE).\n",
    "\n",
    "Resource: https://www.ed-data.org/article/Charter-Schools-in-California"
   ]
  },
  {
   "cell_type": "code",
   "execution_count": 87,
   "metadata": {},
   "outputs": [
    {
     "data": {
      "text/plain": [
       "array(['Y', 'N'], dtype=object)"
      ]
     },
     "execution_count": 87,
     "metadata": {},
     "output_type": "execute_result"
    }
   ],
   "source": [
    "active_ps[\"Charter\"].unique()"
   ]
  },
  {
   "cell_type": "code",
   "execution_count": 88,
   "metadata": {},
   "outputs": [],
   "source": [
    "public_schools = public_schools.loc[public_schools['Charter']!= 'No Data']"
   ]
  },
  {
   "cell_type": "code",
   "execution_count": 89,
   "metadata": {},
   "outputs": [
    {
     "data": {
      "text/plain": [
       "1305"
      ]
     },
     "execution_count": 89,
     "metadata": {},
     "output_type": "execute_result"
    }
   ],
   "source": [
    "# Number of public schools are Charter school\n",
    "len(active_ps.loc[active_ps[\"Charter\"] == \"Y\"])\n"
   ]
  },
  {
   "cell_type": "markdown",
   "metadata": {},
   "source": [
    "###  Year Round Education Program\n",
    "\n",
    "Year-round education (YRE) is not a typical alternative way to deliver the curriculum. It is, however, an alternative way to construct the school calendar. Both traditional and some year-round school calendars can have 180 days of instruction. The traditional calendar, of course, is divided into nine months of instruction and three months of vacation during the summer. Year-round calendars break these long instructional/vacation blocks into shorter units. The most typical instructional/vacation year-round pattern is called the 60/20 calendar (60 days of instruction followed by 20 days of vacation and the second most popular is the 45/15. There are numerous other possible patterns, but they are not common. \n",
    "\n",
    "Resource: https://www.cde.ca.gov/ls/fa/yr/guide.asp"
   ]
  },
  {
   "cell_type": "code",
   "execution_count": 90,
   "metadata": {},
   "outputs": [
    {
     "data": {
      "text/plain": [
       "709"
      ]
     },
     "execution_count": 90,
     "metadata": {},
     "output_type": "execute_result"
    }
   ],
   "source": [
    "len(active_ps.loc[active_ps[\"YearRoundYN\"] == \"Y\"])"
   ]
  },
  {
   "cell_type": "code",
   "execution_count": 91,
   "metadata": {},
   "outputs": [],
   "source": [
    "active_ps = active_ps.loc[active_ps['YearRoundYN']!= 'No Data']"
   ]
  },
  {
   "cell_type": "markdown",
   "metadata": {},
   "source": [
    "### Directly Funded vs Locally Funded Schools\n",
    "\n",
    "Direct funding is funding that is provided to an organization directly by a governmental entity or intermediate organization that has the same duties as a government entity.\n",
    "\n",
    "https://www.hhs.gov/answers/grants-and-contracts/what-is-the-difference-between-indirect-direct-funding/index.html\n",
    "\n",
    "Locally Funded. Locally funded schools receive funding through their authorizing district or county office. Districts sometimes refer to these schools as dependent charter schools.\n",
    "Direct Funded. Directly funded schools receive funding directly from the state. Districts sometimes refer to these schools as independent charter schools. Method Schools is a direct-funded network of charter schools.\n",
    "\n",
    "https://www.methodschools.org/blog/how-charter-schools-are-funded-accomplishing-more-with-less"
   ]
  },
  {
   "cell_type": "code",
   "execution_count": 92,
   "metadata": {},
   "outputs": [
    {
     "data": {
      "text/plain": [
       "array(['Directly funded', 'No Data', 'Locally funded'], dtype=object)"
      ]
     },
     "execution_count": 92,
     "metadata": {},
     "output_type": "execute_result"
    }
   ],
   "source": [
    "# We can compare success of directly funded and locally funded public schools\n",
    "# and see the difference between funded schools and no data/nan/not in CS funding models columns\n",
    "\n",
    "active_ps[\"FundingType\"].unique()"
   ]
  },
  {
   "cell_type": "code",
   "execution_count": 93,
   "metadata": {},
   "outputs": [],
   "source": [
    "active_ps = active_ps.loc[active_ps['FundingType']!= 'No Data']"
   ]
  },
  {
   "cell_type": "markdown",
   "metadata": {},
   "source": [
    "### The Educational Instruction Levels\n",
    "\n",
    "A – Adult\n",
    "\n",
    "ELEM – Elementary\n",
    "\n",
    "ELEMHIGH – Elementary-High Combination\n",
    "\n",
    "HS – High School\n",
    "\n",
    "INTMIDJR – Intermediate/Middle/Junior High\n",
    "\n",
    "PS – Preschool\n",
    "\n",
    "UG – Ungraded"
   ]
  },
  {
   "cell_type": "code",
   "execution_count": 96,
   "metadata": {},
   "outputs": [
    {
     "data": {
      "text/plain": [
       "array(['HS', 'ELEM', 'INTMIDJR', 'ELEMHIGH', 'UG'], dtype=object)"
      ]
     },
     "execution_count": 96,
     "metadata": {},
     "output_type": "execute_result"
    }
   ],
   "source": [
    "active_ps[\"EILCode\"].unique()"
   ]
  },
  {
   "cell_type": "code",
   "execution_count": 97,
   "metadata": {},
   "outputs": [],
   "source": [
    "active_ps = active_ps.loc[active_ps['EILCode']!= 'No Data']"
   ]
  },
  {
   "cell_type": "code",
   "execution_count": 98,
   "metadata": {},
   "outputs": [],
   "source": [
    "active_ps = active_ps.loc[active_ps['EILName']!= 'No Data']"
   ]
  },
  {
   "cell_type": "code",
   "execution_count": 99,
   "metadata": {},
   "outputs": [
    {
     "data": {
      "text/plain": [
       "array(['High School', 'Elementary', 'Intermediate/Middle/Junior High',\n",
       "       'Elementary-High Combination', 'Ungraded'], dtype=object)"
      ]
     },
     "execution_count": 99,
     "metadata": {},
     "output_type": "execute_result"
    }
   ],
   "source": [
    "active_ps[\"EILName\"].unique()"
   ]
  },
  {
   "cell_type": "code",
   "execution_count": null,
   "metadata": {},
   "outputs": [],
   "source": []
  },
  {
   "cell_type": "code",
   "execution_count": null,
   "metadata": {},
   "outputs": [],
   "source": []
  },
  {
   "cell_type": "code",
   "execution_count": null,
   "metadata": {},
   "outputs": [],
   "source": []
  },
  {
   "cell_type": "code",
   "execution_count": null,
   "metadata": {},
   "outputs": [],
   "source": []
  },
  {
   "cell_type": "code",
   "execution_count": 100,
   "metadata": {},
   "outputs": [
    {
     "data": {
      "text/html": [
       "<div>\n",
       "<style scoped>\n",
       "    .dataframe tbody tr th:only-of-type {\n",
       "        vertical-align: middle;\n",
       "    }\n",
       "\n",
       "    .dataframe tbody tr th {\n",
       "        vertical-align: top;\n",
       "    }\n",
       "\n",
       "    .dataframe thead th {\n",
       "        text-align: right;\n",
       "    }\n",
       "</style>\n",
       "<table border=\"1\" class=\"dataframe\">\n",
       "  <thead>\n",
       "    <tr style=\"text-align: right;\">\n",
       "      <th></th>\n",
       "      <th>CDSCode</th>\n",
       "      <th>StatusType</th>\n",
       "      <th>County</th>\n",
       "      <th>District</th>\n",
       "      <th>School</th>\n",
       "      <th>EILName</th>\n",
       "      <th>OpenDate</th>\n",
       "      <th>Charter</th>\n",
       "      <th>Magnet</th>\n",
       "      <th>YearRoundYN</th>\n",
       "      <th>FundingType</th>\n",
       "    </tr>\n",
       "  </thead>\n",
       "  <tbody>\n",
       "    <tr>\n",
       "      <th>2</th>\n",
       "      <td>1100170112607</td>\n",
       "      <td>Active</td>\n",
       "      <td>Alameda</td>\n",
       "      <td>Alameda County Office of Education</td>\n",
       "      <td>Envision Academy for Arts &amp; Technology</td>\n",
       "      <td>High School</td>\n",
       "      <td>8/28/2006</td>\n",
       "      <td>Y</td>\n",
       "      <td>N</td>\n",
       "      <td>N</td>\n",
       "      <td>Directly funded</td>\n",
       "    </tr>\n",
       "    <tr>\n",
       "      <th>4</th>\n",
       "      <td>1100170123968</td>\n",
       "      <td>Active</td>\n",
       "      <td>Alameda</td>\n",
       "      <td>Alameda County Office of Education</td>\n",
       "      <td>Community School for Creative Education</td>\n",
       "      <td>Elementary</td>\n",
       "      <td>8/22/2011</td>\n",
       "      <td>Y</td>\n",
       "      <td>N</td>\n",
       "      <td>N</td>\n",
       "      <td>Directly funded</td>\n",
       "    </tr>\n",
       "    <tr>\n",
       "      <th>5</th>\n",
       "      <td>1100170124172</td>\n",
       "      <td>Active</td>\n",
       "      <td>Alameda</td>\n",
       "      <td>Alameda County Office of Education</td>\n",
       "      <td>Yu Ming Charter</td>\n",
       "      <td>Elementary</td>\n",
       "      <td>8/9/2011</td>\n",
       "      <td>Y</td>\n",
       "      <td>N</td>\n",
       "      <td>N</td>\n",
       "      <td>Directly funded</td>\n",
       "    </tr>\n",
       "    <tr>\n",
       "      <th>6</th>\n",
       "      <td>1100170125567</td>\n",
       "      <td>Active</td>\n",
       "      <td>Alameda</td>\n",
       "      <td>Alameda County Office of Education</td>\n",
       "      <td>Urban Montessori Charter</td>\n",
       "      <td>Elementary</td>\n",
       "      <td>8/27/2012</td>\n",
       "      <td>Y</td>\n",
       "      <td>N</td>\n",
       "      <td>N</td>\n",
       "      <td>Directly funded</td>\n",
       "    </tr>\n",
       "    <tr>\n",
       "      <th>7</th>\n",
       "      <td>1100170129403</td>\n",
       "      <td>Active</td>\n",
       "      <td>Alameda</td>\n",
       "      <td>Alameda County Office of Education</td>\n",
       "      <td>Epic Charter</td>\n",
       "      <td>Intermediate/Middle/Junior High</td>\n",
       "      <td>8/25/2014</td>\n",
       "      <td>Y</td>\n",
       "      <td>N</td>\n",
       "      <td>N</td>\n",
       "      <td>Directly funded</td>\n",
       "    </tr>\n",
       "    <tr>\n",
       "      <th>13</th>\n",
       "      <td>1100170131581</td>\n",
       "      <td>Active</td>\n",
       "      <td>Alameda</td>\n",
       "      <td>Alameda County Office of Education</td>\n",
       "      <td>Oakland Unity Middle</td>\n",
       "      <td>Intermediate/Middle/Junior High</td>\n",
       "      <td>8/23/2015</td>\n",
       "      <td>Y</td>\n",
       "      <td>N</td>\n",
       "      <td>N</td>\n",
       "      <td>Directly funded</td>\n",
       "    </tr>\n",
       "    <tr>\n",
       "      <th>15</th>\n",
       "      <td>1100170136101</td>\n",
       "      <td>Active</td>\n",
       "      <td>Alameda</td>\n",
       "      <td>Alameda County Office of Education</td>\n",
       "      <td>Connecting Waters Charter - East Bay</td>\n",
       "      <td>Elementary-High Combination</td>\n",
       "      <td>8/16/2017</td>\n",
       "      <td>Y</td>\n",
       "      <td>N</td>\n",
       "      <td>N</td>\n",
       "      <td>Directly funded</td>\n",
       "    </tr>\n",
       "    <tr>\n",
       "      <th>16</th>\n",
       "      <td>1100170136226</td>\n",
       "      <td>Active</td>\n",
       "      <td>Alameda</td>\n",
       "      <td>Alameda County Office of Education</td>\n",
       "      <td>Opportunity Academy</td>\n",
       "      <td>High School</td>\n",
       "      <td>9/5/2017</td>\n",
       "      <td>Y</td>\n",
       "      <td>N</td>\n",
       "      <td>Y</td>\n",
       "      <td>Locally funded</td>\n",
       "    </tr>\n",
       "    <tr>\n",
       "      <th>18</th>\n",
       "      <td>1100170137448</td>\n",
       "      <td>Active</td>\n",
       "      <td>Alameda</td>\n",
       "      <td>Alameda County Office of Education</td>\n",
       "      <td>Aurum Preparatory Academy</td>\n",
       "      <td>Elementary</td>\n",
       "      <td>8/13/2018</td>\n",
       "      <td>Y</td>\n",
       "      <td>N</td>\n",
       "      <td>N</td>\n",
       "      <td>Directly funded</td>\n",
       "    </tr>\n",
       "    <tr>\n",
       "      <th>21</th>\n",
       "      <td>1100170138867</td>\n",
       "      <td>Active</td>\n",
       "      <td>Alameda</td>\n",
       "      <td>Alameda County Office of Education</td>\n",
       "      <td>Hayward Collegiate Charter</td>\n",
       "      <td>Elementary</td>\n",
       "      <td>8/19/2019</td>\n",
       "      <td>Y</td>\n",
       "      <td>N</td>\n",
       "      <td>N</td>\n",
       "      <td>Directly funded</td>\n",
       "    </tr>\n",
       "    <tr>\n",
       "      <th>22</th>\n",
       "      <td>1100176001788</td>\n",
       "      <td>Active</td>\n",
       "      <td>Alameda</td>\n",
       "      <td>Alameda County Office of Education</td>\n",
       "      <td>Cox Academy</td>\n",
       "      <td>Elementary</td>\n",
       "      <td>7/1/1980</td>\n",
       "      <td>Y</td>\n",
       "      <td>N</td>\n",
       "      <td>N</td>\n",
       "      <td>Directly funded</td>\n",
       "    </tr>\n",
       "    <tr>\n",
       "      <th>23</th>\n",
       "      <td>1100176002000</td>\n",
       "      <td>Active</td>\n",
       "      <td>Alameda</td>\n",
       "      <td>Alameda County Office of Education</td>\n",
       "      <td>Lazear Charter Academy</td>\n",
       "      <td>Elementary</td>\n",
       "      <td>7/1/1980</td>\n",
       "      <td>Y</td>\n",
       "      <td>N</td>\n",
       "      <td>N</td>\n",
       "      <td>Directly funded</td>\n",
       "    </tr>\n",
       "    <tr>\n",
       "      <th>51</th>\n",
       "      <td>1611190119222</td>\n",
       "      <td>Active</td>\n",
       "      <td>Alameda</td>\n",
       "      <td>Alameda Unified</td>\n",
       "      <td>Nea Community Learning Center</td>\n",
       "      <td>Elementary-High Combination</td>\n",
       "      <td>8/31/2009</td>\n",
       "      <td>Y</td>\n",
       "      <td>N</td>\n",
       "      <td>N</td>\n",
       "      <td>Directly funded</td>\n",
       "    </tr>\n",
       "    <tr>\n",
       "      <th>52</th>\n",
       "      <td>1611190122085</td>\n",
       "      <td>Active</td>\n",
       "      <td>Alameda</td>\n",
       "      <td>Alameda Unified</td>\n",
       "      <td>The Academy of Alameda</td>\n",
       "      <td>Intermediate/Middle/Junior High</td>\n",
       "      <td>8/30/2010</td>\n",
       "      <td>Y</td>\n",
       "      <td>N</td>\n",
       "      <td>N</td>\n",
       "      <td>Directly funded</td>\n",
       "    </tr>\n",
       "    <tr>\n",
       "      <th>58</th>\n",
       "      <td>1611190130609</td>\n",
       "      <td>Active</td>\n",
       "      <td>Alameda</td>\n",
       "      <td>Alameda Unified</td>\n",
       "      <td>Alameda Community Learning Center</td>\n",
       "      <td>Elementary-High Combination</td>\n",
       "      <td>8/30/2001</td>\n",
       "      <td>Y</td>\n",
       "      <td>N</td>\n",
       "      <td>N</td>\n",
       "      <td>Directly funded</td>\n",
       "    </tr>\n",
       "    <tr>\n",
       "      <th>59</th>\n",
       "      <td>1611190130625</td>\n",
       "      <td>Active</td>\n",
       "      <td>Alameda</td>\n",
       "      <td>Alameda Unified</td>\n",
       "      <td>Alternatives in Action</td>\n",
       "      <td>High School</td>\n",
       "      <td>9/4/2001</td>\n",
       "      <td>Y</td>\n",
       "      <td>N</td>\n",
       "      <td>N</td>\n",
       "      <td>Directly funded</td>\n",
       "    </tr>\n",
       "    <tr>\n",
       "      <th>60</th>\n",
       "      <td>1611190131805</td>\n",
       "      <td>Active</td>\n",
       "      <td>Alameda</td>\n",
       "      <td>Alameda Unified</td>\n",
       "      <td>The Academy of Alameda Elementary</td>\n",
       "      <td>Elementary</td>\n",
       "      <td>8/27/2015</td>\n",
       "      <td>Y</td>\n",
       "      <td>N</td>\n",
       "      <td>N</td>\n",
       "      <td>Directly funded</td>\n",
       "    </tr>\n",
       "    <tr>\n",
       "      <th>183</th>\n",
       "      <td>1611760130534</td>\n",
       "      <td>Active</td>\n",
       "      <td>Alameda</td>\n",
       "      <td>Fremont Unified</td>\n",
       "      <td>Circle of Independent Learning</td>\n",
       "      <td>Elementary-High Combination</td>\n",
       "      <td>9/9/1998</td>\n",
       "      <td>Y</td>\n",
       "      <td>N</td>\n",
       "      <td>N</td>\n",
       "      <td>Locally funded</td>\n",
       "    </tr>\n",
       "    <tr>\n",
       "      <th>241</th>\n",
       "      <td>1611920108670</td>\n",
       "      <td>Active</td>\n",
       "      <td>Alameda</td>\n",
       "      <td>Hayward Unified</td>\n",
       "      <td>Leadership Public Schools - Hayward</td>\n",
       "      <td>High School</td>\n",
       "      <td>8/29/2005</td>\n",
       "      <td>Y</td>\n",
       "      <td>N</td>\n",
       "      <td>N</td>\n",
       "      <td>Directly funded</td>\n",
       "    </tr>\n",
       "    <tr>\n",
       "      <th>244</th>\n",
       "      <td>1611920119248</td>\n",
       "      <td>Active</td>\n",
       "      <td>Alameda</td>\n",
       "      <td>Hayward Unified</td>\n",
       "      <td>Golden Oak Montessori of Hayward</td>\n",
       "      <td>Elementary</td>\n",
       "      <td>8/31/2009</td>\n",
       "      <td>Y</td>\n",
       "      <td>N</td>\n",
       "      <td>N</td>\n",
       "      <td>Directly funded</td>\n",
       "    </tr>\n",
       "  </tbody>\n",
       "</table>\n",
       "</div>"
      ],
      "text/plain": [
       "           CDSCode StatusType   County                            District  \\\n",
       "2    1100170112607     Active  Alameda  Alameda County Office of Education   \n",
       "4    1100170123968     Active  Alameda  Alameda County Office of Education   \n",
       "5    1100170124172     Active  Alameda  Alameda County Office of Education   \n",
       "6    1100170125567     Active  Alameda  Alameda County Office of Education   \n",
       "7    1100170129403     Active  Alameda  Alameda County Office of Education   \n",
       "13   1100170131581     Active  Alameda  Alameda County Office of Education   \n",
       "15   1100170136101     Active  Alameda  Alameda County Office of Education   \n",
       "16   1100170136226     Active  Alameda  Alameda County Office of Education   \n",
       "18   1100170137448     Active  Alameda  Alameda County Office of Education   \n",
       "21   1100170138867     Active  Alameda  Alameda County Office of Education   \n",
       "22   1100176001788     Active  Alameda  Alameda County Office of Education   \n",
       "23   1100176002000     Active  Alameda  Alameda County Office of Education   \n",
       "51   1611190119222     Active  Alameda                     Alameda Unified   \n",
       "52   1611190122085     Active  Alameda                     Alameda Unified   \n",
       "58   1611190130609     Active  Alameda                     Alameda Unified   \n",
       "59   1611190130625     Active  Alameda                     Alameda Unified   \n",
       "60   1611190131805     Active  Alameda                     Alameda Unified   \n",
       "183  1611760130534     Active  Alameda                     Fremont Unified   \n",
       "241  1611920108670     Active  Alameda                     Hayward Unified   \n",
       "244  1611920119248     Active  Alameda                     Hayward Unified   \n",
       "\n",
       "                                      School                          EILName  \\\n",
       "2     Envision Academy for Arts & Technology                      High School   \n",
       "4    Community School for Creative Education                       Elementary   \n",
       "5                            Yu Ming Charter                       Elementary   \n",
       "6                   Urban Montessori Charter                       Elementary   \n",
       "7                               Epic Charter  Intermediate/Middle/Junior High   \n",
       "13                      Oakland Unity Middle  Intermediate/Middle/Junior High   \n",
       "15      Connecting Waters Charter - East Bay      Elementary-High Combination   \n",
       "16                       Opportunity Academy                      High School   \n",
       "18                 Aurum Preparatory Academy                       Elementary   \n",
       "21                Hayward Collegiate Charter                       Elementary   \n",
       "22                               Cox Academy                       Elementary   \n",
       "23                    Lazear Charter Academy                       Elementary   \n",
       "51             Nea Community Learning Center      Elementary-High Combination   \n",
       "52                    The Academy of Alameda  Intermediate/Middle/Junior High   \n",
       "58         Alameda Community Learning Center      Elementary-High Combination   \n",
       "59                    Alternatives in Action                      High School   \n",
       "60         The Academy of Alameda Elementary                       Elementary   \n",
       "183           Circle of Independent Learning      Elementary-High Combination   \n",
       "241      Leadership Public Schools - Hayward                      High School   \n",
       "244         Golden Oak Montessori of Hayward                       Elementary   \n",
       "\n",
       "      OpenDate Charter Magnet YearRoundYN      FundingType  \n",
       "2    8/28/2006       Y      N           N  Directly funded  \n",
       "4    8/22/2011       Y      N           N  Directly funded  \n",
       "5     8/9/2011       Y      N           N  Directly funded  \n",
       "6    8/27/2012       Y      N           N  Directly funded  \n",
       "7    8/25/2014       Y      N           N  Directly funded  \n",
       "13   8/23/2015       Y      N           N  Directly funded  \n",
       "15   8/16/2017       Y      N           N  Directly funded  \n",
       "16    9/5/2017       Y      N           Y   Locally funded  \n",
       "18   8/13/2018       Y      N           N  Directly funded  \n",
       "21   8/19/2019       Y      N           N  Directly funded  \n",
       "22    7/1/1980       Y      N           N  Directly funded  \n",
       "23    7/1/1980       Y      N           N  Directly funded  \n",
       "51   8/31/2009       Y      N           N  Directly funded  \n",
       "52   8/30/2010       Y      N           N  Directly funded  \n",
       "58   8/30/2001       Y      N           N  Directly funded  \n",
       "59    9/4/2001       Y      N           N  Directly funded  \n",
       "60   8/27/2015       Y      N           N  Directly funded  \n",
       "183   9/9/1998       Y      N           N   Locally funded  \n",
       "241  8/29/2005       Y      N           N  Directly funded  \n",
       "244  8/31/2009       Y      N           N  Directly funded  "
      ]
     },
     "execution_count": 100,
     "metadata": {},
     "output_type": "execute_result"
    }
   ],
   "source": [
    "public_schools20162020 = active_ps[[\"CDSCode\", \"StatusType\", \"County\", \"District\", \"School\",\"EILName\", \"OpenDate\",\n",
    "                                 \"Charter\",\"Magnet\", \"YearRoundYN\", \"FundingType\"]]\n",
    "public_schools20162020.head(20)"
   ]
  },
  {
   "cell_type": "code",
   "execution_count": 90,
   "metadata": {},
   "outputs": [],
   "source": [
    "\n",
    "public_schools20162020.to_csv(r'C:\\Users\\Rabia\\Desktop\\public_schools20162020.csv', index=False) "
   ]
  },
  {
   "cell_type": "markdown",
   "metadata": {},
   "source": [
    "## California Assessment of Student Performance and Progress(CASPP) 2016-2019 Reports                                                                          "
   ]
  },
  {
   "cell_type": "code",
   "execution_count": 153,
   "metadata": {},
   "outputs": [],
   "source": [
    "data2016 = pd.read_csv(\"sb_ca2016_all_csv_v3.txt\")"
   ]
  },
  {
   "cell_type": "code",
   "execution_count": 155,
   "metadata": {},
   "outputs": [
    {
     "data": {
      "text/plain": [
       "Index(['County Code', 'District Code', 'School Code', 'Filler', 'Test Year',\n",
       "       'Subgroup ID', 'Test Type', 'Total CAASPP Enrollment',\n",
       "       'Total Tested At Entity Level', 'Total Tested with Scores', 'Grade',\n",
       "       'Test Id', 'CAASPP Reported Enrollment', 'Students Tested',\n",
       "       'Mean Scale Score', 'Percentage Standard Exceeded',\n",
       "       'Percentage Standard Met', 'Percentage Standard Met and Above',\n",
       "       'Percentage Standard Nearly Met', 'Percentage Standard Not Met',\n",
       "       'Students with Scores', 'Area 1 Percentage Above Standard',\n",
       "       'Area 1 Percentage Near Standard', 'Area 1 Percentage Below Standard',\n",
       "       'Area 2 Percentage Above Standard', 'Area 2 Percentage Near Standard',\n",
       "       'Area 2 Percentage Below Standard', 'Area 3 Percentage Above Standard',\n",
       "       'Area 3 Percentage Near Standard', 'Area 3 Percentage Below Standard',\n",
       "       'Area 4 Percentage Above Standard', 'Area 4 Percentage Near Standard',\n",
       "       'Area 4 Percentage Below Standard'],\n",
       "      dtype='object')"
      ]
     },
     "execution_count": 155,
     "metadata": {},
     "output_type": "execute_result"
    }
   ],
   "source": [
    "data2016.columns"
   ]
  },
  {
   "cell_type": "code",
   "execution_count": 156,
   "metadata": {},
   "outputs": [],
   "source": [
    "data2016[\"CDSCode\"]=data2016[\"County Code\"].astype(str)+data2016[\"District Code\"].astype(str)+data2016[\"School Code\"].astype(str)"
   ]
  },
  {
   "cell_type": "code",
   "execution_count": 167,
   "metadata": {},
   "outputs": [],
   "source": [
    "data2016 = data2016[[\"CDSCode\",\"Test Id\",\"Grade\",\"Students Tested\",\"Mean Scale Score\",\"Subgroup ID\",\n",
    "                     \"Percentage Standard Exceeded\",\"Percentage Standard Met\",\"Percentage Standard Nearly Met\",\"Percentage Standard Not Met\"]]"
   ]
  },
  {
   "cell_type": "markdown",
   "metadata": {},
   "source": [
    "### Achievement Level Descriptors\n",
    "the specifications for what knowledge and skills students display at each level (i.e., Level 1, Level 2, Level 3, and Level 4).\n",
    "Reporting Achievement Student test results are reported in the following overall achievement levels: \n",
    "##### • Level 4—Standard Exceeded\n",
    "means the student has surpassed the achievement standard and demonstrates advanced progress toward \n",
    "mastering the skills and knowledge necessary to succeed in future coursework. \n",
    "In grades 6-8 and 11, this achievement level also indicates that a student has demonstrated advanced\n",
    "progress toward college readiness after graduation.\n",
    "##### • Level 3—Standard Met\n",
    "means the student demonstrates skills and knowledge that are likely necessary to succeed in future coursework. \n",
    "In grades 6-8 and 11, this achievement level indicates that the student has demonstrated progress toward \n",
    "mastering skills and knowledge needed to be ready for college after graduation.\n",
    "##### • Level 2—Standard Nearly Met \n",
    "means the student is close to meeting the achievement standard and may need further development\n",
    "                               to demonstrate skills and knowledge required for future coursework. In grades 6-8 and 11,\n",
    "                               a score in this range indicates further development may be needed to succeed in entry-level\n",
    "                               college courses after graduation.\n",
    "##### • Level 1—Standard Not Met \n",
    "means the student must improve substantially to demonstrate the skills and knowledge needed to \n",
    "                            succeed in future coursework. In grades 6-8 and 11, a score in this range indicates the student needs to \n",
    "                            improve substantially to be ready for college after graduation.\n",
    "\n",
    "https://edsource.org/2015/california-smarter-balanced-math-english-results-common-core-faq/86181"
   ]
  },
  {
   "cell_type": "code",
   "execution_count": 157,
   "metadata": {},
   "outputs": [
    {
     "data": {
      "text/html": [
       "<div>\n",
       "<style scoped>\n",
       "    .dataframe tbody tr th:only-of-type {\n",
       "        vertical-align: middle;\n",
       "    }\n",
       "\n",
       "    .dataframe tbody tr th {\n",
       "        vertical-align: top;\n",
       "    }\n",
       "\n",
       "    .dataframe thead th {\n",
       "        text-align: right;\n",
       "    }\n",
       "</style>\n",
       "<table border=\"1\" class=\"dataframe\">\n",
       "  <thead>\n",
       "    <tr style=\"text-align: right;\">\n",
       "      <th></th>\n",
       "      <th>Percentage Standard Exceeded</th>\n",
       "      <th>Percentage Standard Met</th>\n",
       "      <th>Percentage Standard Nearly Met</th>\n",
       "      <th>Percentage Standard Not Met</th>\n",
       "    </tr>\n",
       "  </thead>\n",
       "  <tbody>\n",
       "    <tr>\n",
       "      <th>0</th>\n",
       "      <td>18</td>\n",
       "      <td>28</td>\n",
       "      <td>26</td>\n",
       "      <td>29</td>\n",
       "    </tr>\n",
       "    <tr>\n",
       "      <th>1</th>\n",
       "      <td>22</td>\n",
       "      <td>21</td>\n",
       "      <td>25</td>\n",
       "      <td>32</td>\n",
       "    </tr>\n",
       "    <tr>\n",
       "      <th>2</th>\n",
       "      <td>23</td>\n",
       "      <td>21</td>\n",
       "      <td>20</td>\n",
       "      <td>36</td>\n",
       "    </tr>\n",
       "    <tr>\n",
       "      <th>3</th>\n",
       "      <td>15</td>\n",
       "      <td>23</td>\n",
       "      <td>33</td>\n",
       "      <td>28</td>\n",
       "    </tr>\n",
       "    <tr>\n",
       "      <th>4</th>\n",
       "      <td>17</td>\n",
       "      <td>16</td>\n",
       "      <td>28</td>\n",
       "      <td>39</td>\n",
       "    </tr>\n",
       "    <tr>\n",
       "      <th>...</th>\n",
       "      <td>...</td>\n",
       "      <td>...</td>\n",
       "      <td>...</td>\n",
       "      <td>...</td>\n",
       "    </tr>\n",
       "    <tr>\n",
       "      <th>3116790</th>\n",
       "      <td>7</td>\n",
       "      <td>11</td>\n",
       "      <td>32</td>\n",
       "      <td>51</td>\n",
       "    </tr>\n",
       "    <tr>\n",
       "      <th>3116791</th>\n",
       "      <td>*</td>\n",
       "      <td>*</td>\n",
       "      <td>*</td>\n",
       "      <td>*</td>\n",
       "    </tr>\n",
       "    <tr>\n",
       "      <th>3116792</th>\n",
       "      <td>*</td>\n",
       "      <td>*</td>\n",
       "      <td>*</td>\n",
       "      <td>*</td>\n",
       "    </tr>\n",
       "    <tr>\n",
       "      <th>3116793</th>\n",
       "      <td>*</td>\n",
       "      <td>*</td>\n",
       "      <td>*</td>\n",
       "      <td>*</td>\n",
       "    </tr>\n",
       "    <tr>\n",
       "      <th>3116794</th>\n",
       "      <td>*</td>\n",
       "      <td>*</td>\n",
       "      <td>*</td>\n",
       "      <td>*</td>\n",
       "    </tr>\n",
       "  </tbody>\n",
       "</table>\n",
       "<p>3116795 rows × 4 columns</p>\n",
       "</div>"
      ],
      "text/plain": [
       "        Percentage Standard Exceeded Percentage Standard Met  \\\n",
       "0                                 18                      28   \n",
       "1                                 22                      21   \n",
       "2                                 23                      21   \n",
       "3                                 15                      23   \n",
       "4                                 17                      16   \n",
       "...                              ...                     ...   \n",
       "3116790                            7                      11   \n",
       "3116791                            *                       *   \n",
       "3116792                            *                       *   \n",
       "3116793                            *                       *   \n",
       "3116794                            *                       *   \n",
       "\n",
       "        Percentage Standard Nearly Met Percentage Standard Not Met  \n",
       "0                                   26                          29  \n",
       "1                                   25                          32  \n",
       "2                                   20                          36  \n",
       "3                                   33                          28  \n",
       "4                                   28                          39  \n",
       "...                                ...                         ...  \n",
       "3116790                             32                          51  \n",
       "3116791                              *                           *  \n",
       "3116792                              *                           *  \n",
       "3116793                              *                           *  \n",
       "3116794                              *                           *  \n",
       "\n",
       "[3116795 rows x 4 columns]"
      ]
     },
     "execution_count": 157,
     "metadata": {},
     "output_type": "execute_result"
    }
   ],
   "source": [
    "data2016[[\"Percentage Standard Exceeded\",\"Percentage Standard Met\",\"Percentage Standard Nearly Met\",\"Percentage Standard Not Met\"]]"
   ]
  },
  {
   "cell_type": "code",
   "execution_count": 158,
   "metadata": {},
   "outputs": [
    {
     "data": {
      "text/plain": [
       "0    2424.7\n",
       "1    2414.2\n",
       "2    2454.4\n",
       "3    2460.5\n",
       "4    2485.2\n",
       "Name: Mean Scale Score, dtype: object"
      ]
     },
     "execution_count": 158,
     "metadata": {},
     "output_type": "execute_result"
    }
   ],
   "source": [
    "data2016[\"Mean Scale Score\"].head()\n",
    "# A mean scale score is the average performance of a group of students on an assessment. \n",
    "# Specifically, a mean scale score is calculated by adding all individual student scores and dividing by the number of total scores."
   ]
  },
  {
   "cell_type": "code",
   "execution_count": 159,
   "metadata": {},
   "outputs": [
    {
     "data": {
      "text/plain": [
       "0    461013\n",
       "1    458658\n",
       "2    474588\n",
       "3    476795\n",
       "4    467426\n",
       "Name: Students Tested, dtype: int64"
      ]
     },
     "execution_count": 159,
     "metadata": {},
     "output_type": "execute_result"
    }
   ],
   "source": [
    "data2016[\"Students Tested\"].head()"
   ]
  },
  {
   "cell_type": "code",
   "execution_count": 160,
   "metadata": {},
   "outputs": [
    {
     "data": {
      "text/plain": [
       "array([ 3,  4,  5,  6,  7,  8, 11, 13], dtype=int64)"
      ]
     },
     "execution_count": 160,
     "metadata": {},
     "output_type": "execute_result"
    }
   ],
   "source": [
    "data2016[\"Grade\"].unique()"
   ]
  },
  {
   "cell_type": "code",
   "execution_count": 161,
   "metadata": {},
   "outputs": [
    {
     "data": {
      "text/plain": [
       "array([2, 1], dtype=int64)"
      ]
     },
     "execution_count": 161,
     "metadata": {},
     "output_type": "execute_result"
    }
   ],
   "source": [
    "data2016[\"Test Id\"].unique() \n",
    "# \"1\" - English Language Arts/Literacy\"\n",
    "# \"2\" - Mathematics\""
   ]
  },
  {
   "cell_type": "code",
   "execution_count": 162,
   "metadata": {},
   "outputs": [
    {
     "data": {
      "text/plain": [
       "array([  1,   3,   4,   6,   7,   8,  28,  31,  74,  75,  76,  77,  78,\n",
       "        79,  80,  90,  91,  92,  93,  94,  99, 111, 120, 121, 128, 142,\n",
       "       144, 160, 180, 200, 201, 202, 203, 204, 205, 206, 207, 220, 221,\n",
       "       222, 223, 224, 225, 226, 227], dtype=int64)"
      ]
     },
     "execution_count": 162,
     "metadata": {},
     "output_type": "execute_result"
    }
   ],
   "source": [
    "data2016[\"Subgroup ID\"].unique()"
   ]
  },
  {
   "cell_type": "code",
   "execution_count": 163,
   "metadata": {},
   "outputs": [],
   "source": [
    "# \"001\", 1, \"All Students\", \"All Students\"\n",
    "# \"003\", 3, \"Male\", \"Gender\"\n",
    "# \"004\", 4, \"Female\", \"Gender\"\n",
    "# \"006\", 6, \"Fluent English proficient and English only\", \"English-Language Fluency\"\n",
    "# \"007\", 7, \"Initial fluent English proficient (IFEP)\", \"English-Language Fluency\"\n",
    "# \"008\", 8, \"Reclassified fluent English proficient (RFEP)\", \"English-Language Fluency\"\n",
    "# \"028\", 28, \"Migrant education\", \"Migrant\"\n",
    "# \"031\", 31, \"Economically disadvantaged\", \"Economic Status\"\n",
    "# \"074\", 74, \"Black or African American\", \"Ethnicity\"\n",
    "# \"075\", 75, \"American Indian or Alaska Native\", \"Ethnicity\"\n",
    "# \"076\", 76, \"Asian\", \"Ethnicity\"\n",
    "# \"077\", 77, \"Filipino\", \"Ethnicity\"\n",
    "# \"078\", 78, \"Hispanic or Latino\", \"Ethnicity\"\n",
    "# \"079\", 79, \"Native Hawaiian or Pacific Islander\", \"Ethnicity\"\n",
    "# \"080\", 80, \"White\", \"Ethnicity\"\n",
    "# \"090\", 90, \"Not a high school graduate\", \"Parent Education\"\n",
    "# \"091\", 91, \"High school graduate\", \"Parent Education\"\n",
    "# \"092\", 92, \"Some college (includes AA degree)\", \"Parent Education\"\n",
    "# \"093\", 93, \"College graduate\", \"Parent Education\"\n",
    "# \"094\", 94, \"Graduate school/Post graduate\", \"Parent Education\"\n",
    "# \"099\", 99, \"Students with no reported disability\", \"Disability Status\"\n",
    "# \"111\", 111, \"Not economically disadvantaged\", \"Economic Status\"\n",
    "# \"120\", 120, \"English learners (ELs) enrolled in school in the U.S. fewer than 12 months\", \"English-Language Fluency\"\n",
    "# \"121\", 121, \"Declined to state\", \"Parent Education\"\n",
    "# \"128\", 128, \"Students with disability\", \"Disability Status\"\n",
    "# \"142\", 142, \"English learners enrolled in school in the U.S. 12 months or more\", \"English-Language Fluency\"\n",
    "# \"144\", 144, \"Two or more races\", \"Ethnicity\"\n",
    "# \"160\", 160, \"English learner\", \"English-Language Fluency\"\n",
    "# \"170\", 170, \"Ever-ELs\", \"English-Language Fluency\"\n",
    "# \"180\", 180, \"English only\", \"English-Language Fluency\"\n",
    "# \"190\", 190, \"To be determined (TBD)\", \"English-Language Fluency\"\n",
    "# \"200\", 200, \"Black or African American\", \"Ethnicity for Economically Disadvantaged\"\n",
    "# \"201\", 201, \"American Indian or Alaska Native\", \"Ethnicity for Economically Disadvantaged\"\n",
    "# \"202\", 202, \"Asian\", \"Ethnicity for Economically Disadvantaged\"\n",
    "# \"203\", 203, \"Filipino\", \"Ethnicity for Economically Disadvantaged\"\n",
    "# \"204\", 204, \"Hispanic or Latino\", \"Ethnicity for Economically Disadvantaged\"\n",
    "# \"205\", 205, \"Native Hawaiian or Pacific Islander\", \"Ethnicity for Economically Disadvantaged\"\n",
    "# \"206\", 206, \"White\", \"Ethnicity for Economically Disadvantaged\"\n",
    "# \"207\", 207, \"Two or more races\", \"Ethnicity for Economically Disadvantaged\"\n",
    "# \"220\", 220, \"Black or African American\", \"Ethnicity for Not Economically Disadvantaged\"\n",
    "# \"221\", 221, \"American Indian or Alaska Native\", \"Ethnicity for Not Economically Disadvantaged\"\n",
    "# \"222\", 222, \"Asian\", \"Ethnicity for Not Economically Disadvantaged\"\n",
    "# \"223\", 223, \"Filipino\", \"Ethnicity for Not Economically Disadvantaged\"\n",
    "# \"224\", 224, \"Hispanic or Latino\", \"Ethnicity for Not Economically Disadvantaged\"\n",
    "# \"225\", 225, \"Native Hawaiian or Pacific Islander\", \"Ethnicity for Not Economically Disadvantaged\"\n",
    "# \"226\", 226, \"White\", \"Ethnicity for Not Economically Disadvantaged\"\n",
    "# \"227\", 227, \"Two or more races\", \"Ethnicity for Not Economically Disadvantaged\"\n"
   ]
  },
  {
   "cell_type": "code",
   "execution_count": null,
   "metadata": {},
   "outputs": [],
   "source": [
    "# Apply same steps to years 2017, 2018 and 2019 datasets."
   ]
  },
  {
   "cell_type": "code",
   "execution_count": 168,
   "metadata": {},
   "outputs": [],
   "source": [
    "data2017 = pd.read_csv(\"sb_ca2017_all_csv_v2.txt\")\n",
    "data2017[\"CDSCode\"]=data2017[\"County Code\"].astype(str)+data2017[\"District Code\"].astype(str)+data2017[\"School Code\"].astype(str)\n",
    "data2017 = data2017[[\"CDSCode\",\"Test Id\",\"Grade\",\"Students Tested\",\"Mean Scale Score\",\"Subgroup ID\",\n",
    "                     \"Percentage Standard Exceeded\",\"Percentage Standard Met\",\"Percentage Standard Nearly Met\",\"Percentage Standard Not Met\"]]"
   ]
  },
  {
   "cell_type": "code",
   "execution_count": 165,
   "metadata": {},
   "outputs": [],
   "source": [
    "data2018 = pd.read_csv(\"sb_ca2018_all_csv_v3.txt\")\n",
    "data2018[\"CDSCode\"]=data2018[\"County Code\"].astype(str)+data2018[\"District Code\"].astype(str)+data2018[\"School Code\"].astype(str)\n",
    "data2018 = data2018[[\"CDSCode\",\"Test Id\",\"Grade\",\"Students Tested\",\"Mean Scale Score\",\"Subgroup ID\",\n",
    "                     \"Percentage Standard Exceeded\",\"Percentage Standard Met\",\"Percentage Standard Nearly Met\",\"Percentage Standard Not Met\"]]"
   ]
  },
  {
   "cell_type": "code",
   "execution_count": 166,
   "metadata": {},
   "outputs": [],
   "source": [
    "data2019 = pd.read_csv(\"sb_ca2019_all_csv_v4.txt\")\n",
    "data2019[\"CDSCode\"]=data2019[\"County Code\"].astype(str)+data2019[\"District Code\"].astype(str)+data2019[\"School Code\"].astype(str)\n",
    "data2019 = data2019[[\"CDSCode\",\"Test Id\",\"Grade\",\"Students Tested\",\"Mean Scale Score\",\"Subgroup ID\",\n",
    "                     \"Percentage Standard Exceeded\",\"Percentage Standard Met\",\"Percentage Standard Nearly Met\",\"Percentage Standard Not Met\"]]"
   ]
  },
  {
   "cell_type": "code",
   "execution_count": null,
   "metadata": {},
   "outputs": [],
   "source": []
  },
  {
   "cell_type": "code",
   "execution_count": 94,
   "metadata": {},
   "outputs": [
    {
     "data": {
      "text/plain": [
       "Index(['CDSCode', 'CAASPP Reported Enrollment', 'Students Tested',\n",
       "       'Percentage Standard Exceeded', 'Percentage Standard Met',\n",
       "       'Percentage Standard Met and Above', 'Percentage Standard Nearly Met',\n",
       "       'Percentage Standard Not Met', 'Students with Scores', 'School',\n",
       "       'County', 'Charter', 'Magnet', 'EILCode'],\n",
       "      dtype='object')"
      ]
     },
     "execution_count": 94,
     "metadata": {},
     "output_type": "execute_result"
    }
   ],
   "source": [
    "path = \"combined_data.csv\"\n",
    "combined_data = pd.read_csv(path)\n",
    "combined_data.columns"
   ]
  },
  {
   "cell_type": "code",
   "execution_count": null,
   "metadata": {},
   "outputs": [],
   "source": []
  },
  {
   "cell_type": "code",
   "execution_count": null,
   "metadata": {},
   "outputs": [],
   "source": []
  },
  {
   "cell_type": "code",
   "execution_count": null,
   "metadata": {},
   "outputs": [],
   "source": []
  },
  {
   "cell_type": "code",
   "execution_count": null,
   "metadata": {},
   "outputs": [],
   "source": []
  },
  {
   "cell_type": "code",
   "execution_count": null,
   "metadata": {},
   "outputs": [],
   "source": []
  }
 ],
 "metadata": {
  "kernelspec": {
   "display_name": "Python 3",
   "language": "python",
   "name": "python3"
  },
  "language_info": {
   "codemirror_mode": {
    "name": "ipython",
    "version": 3
   },
   "file_extension": ".py",
   "mimetype": "text/x-python",
   "name": "python",
   "nbconvert_exporter": "python",
   "pygments_lexer": "ipython3",
   "version": "3.6.10"
  }
 },
 "nbformat": 4,
 "nbformat_minor": 4
}
