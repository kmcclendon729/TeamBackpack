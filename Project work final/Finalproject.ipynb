{
 "cells": [
  {
   "cell_type": "markdown",
   "metadata": {
    "nteract": {
     "transient": {
      "deleting": false
     }
    }
   },
   "source": [
    "# The 2018 California Assessment of Student Performance and Progress (CAASPP) System\n",
    "# Result of Smarter Balance Assessments Tests—English language arts/literacy (ELA) and mathematics"
   ]
  },
  {
   "cell_type": "code",
   "execution_count": null,
   "metadata": {},
   "outputs": [],
   "source": [
    "%matplotlib inline"
   ]
  },
  {
   "cell_type": "code",
   "execution_count": null,
   "metadata": {
    "execution": {
     "iopub.execute_input": "2020-05-26T02:43:44.824Z",
     "iopub.status.busy": "2020-05-26T02:43:44.817Z",
     "iopub.status.idle": "2020-05-26T02:43:45.992Z",
     "shell.execute_reply": "2020-05-26T02:43:46.000Z"
    },
    "jupyter": {
     "outputs_hidden": true,
     "source_hidden": false
    },
    "nteract": {
     "transient": {
      "deleting": false
     }
    },
    "outputExpanded": false
   },
   "outputs": [],
   "source": [
    "#import dependencies\n",
    "\n",
    "import pandas as pd\n",
    "import numpy as np\n",
    "import matplotlib.pylab as plt\n",
    "\n",
    "\n",
    "#use from datetime import datetime, this feature will help in converting String DateTime to Python DateTime (google)\n",
    "from datetime import datetime\n",
    "\n",
    "#data visualization library in python on top of matplotlib\n",
    "import seaborn as sns\n",
    "\n",
    "#import categoricalDtype for astype i.e (categories, ordered, etc...)\n",
    "from pandas.api.types import CategoricalDtype\n",
    "\n",
    "pd.set_option('display.max_rows', 1000) # display all columns and rows\n",
    "pd.set_option('display.max_columns', 1000)\n",
    "pd.set_option('display.width', 1000)\n",
    "pd.set_option('display.max_colwidth', None) # no truncate\n",
    "pd.set_option('precision', 2)  # show only two decimal digits\n",
    "pd.options.display.float_format = '{:20,.2f}'.format  # no scientitic display\n",
    "\n",
    "import warnings\n",
    "warnings.filterwarnings('ignore')\n",
    "\n",
    "# print all the outputs in a cell\n",
    "from IPython.core.interactiveshell import InteractiveShell\n",
    "InteractiveShell.ast_node_interactivity = 'all'\n",
    "\n",
    "plt.style.use('ggplot')\n",
    "plt.rcParams['figure.figsize'] = 15, 8\n"
   ]
  },
  {
   "cell_type": "markdown",
   "metadata": {
    "nteract": {
     "transient": {
      "deleting": false
     }
    }
   },
   "source": [
    "## Data Source 1: Public Schools"
   ]
  },
  {
   "cell_type": "code",
   "execution_count": null,
   "metadata": {
    "execution": {
     "iopub.execute_input": "2020-05-25T07:51:15.527Z",
     "iopub.status.busy": "2020-05-25T07:51:15.522Z",
     "iopub.status.idle": "2020-05-25T07:51:15.870Z",
     "shell.execute_reply": "2020-05-25T07:51:15.865Z"
    },
    "jupyter": {
     "outputs_hidden": true,
     "source_hidden": false
    },
    "nteract": {
     "transient": {
      "deleting": false
     }
    },
    "outputExpanded": false
   },
   "outputs": [],
   "source": [
    "# Read the data\n",
    "pubsch = pd.read_csv('pubschls.csv')\n",
    "\n",
    "# Keep only the relevant columns\n",
    "keep_cols = ['CDSCode','StatusType', 'County','OpenDate', 'ClosedDate', 'Charter', 'CharterNum', 'FundingType', 'DOC', 'DOCType', 'SOC', 'SOCType', 'EdOpsCode', 'EdOpsName', 'EILCode', 'EILName', 'GSoffered', 'GSserved', 'Virtual', 'Magnet', 'YearRoundYN']\n",
    "df = pubsch[keep_cols]\n",
    "pubsch"
   ]
  },
  {
   "cell_type": "code",
   "execution_count": null,
   "metadata": {
    "execution": {
     "iopub.execute_input": "2020-05-25T07:51:26.337Z",
     "iopub.status.busy": "2020-05-25T07:51:26.333Z",
     "iopub.status.idle": "2020-05-25T07:51:27.265Z",
     "shell.execute_reply": "2020-05-25T07:51:27.270Z"
    },
    "jupyter": {
     "outputs_hidden": true,
     "source_hidden": false
    },
    "nteract": {
     "transient": {
      "deleting": false
     }
    },
    "outputExpanded": false
   },
   "outputs": [],
   "source": [
    "pd.set_option(\"display.max_rows\", 1000, \"display.max_columns\", 1000)\n",
    "\n",
    "#Distinguishing data between ACTIVE and INACTIVE Districts and cleaning up database to keep only ACTIVE districts\n",
    "# Keep only the 'Active' districts\n",
    "#make a new database\n",
    "df_active = df[df.StatusType == 'Active']\n",
    "\n",
    "# Cleanup data, remove the missing values row\n",
    "df_active = df_active.dropna()\n",
    "\n",
    "# fix rows/columns that display no data and replace 'No Data' with N/A, just like the previous cells...\n",
    "df_active = df_active.replace('No Data', np.nan)\n",
    "\n",
    "\n",
    "#make a base to keep only relevant columns\n",
    "df_active = df_active[['CDSCode', 'StatusType', 'County', 'OpenDate', 'Charter', 'FundingType', 'DOC', 'DOCType', 'SOC', 'SOCType', 'EdOpsCode', 'EdOpsName', 'EILCode', 'EILName', 'Virtual', 'Magnet', 'YearRoundYN']]\n",
    "\n",
    "#for calculations in dataset come up with a code that will replace YES/NO column with an Integer for easier calculations\n",
    "# Replace 'Y' with 1 and 'N' with 0 in Yes/No columns\n",
    "for i in ['Charter', 'Magnet', 'YearRoundYN']:\n",
    "    df_active[i] = df_active[i].replace({'Y':1, 'N':0})\n",
    "\n",
    "# Convert column 'OpenDate' to datetime\n",
    "#use from datetime import datetime, this feature will help in converting String DateTime to Python DateTime (google)\n",
    "df_active.OpenDate = df_active.OpenDate.astype(np.datetime64)\n",
    "\n",
    "# Calcuate the duration of operation of a school since the OpenDate to 'now'\n",
    "df_active['duration'] = (pd.to_datetime('now') - df_active.OpenDate)/np.timedelta64(1, \"Y\")\n",
    "\n",
    "# Create cut points to put 'duration' into different groups so they're easier to distinguish\n",
    "cut_points = [0,10,20,30,40,50,150]\n",
    "\n",
    "# Create label names for duration of schools\n",
    "label_names = ['Less than 10 years', '10-20 years', '20-30 years','30-40 years', '40-50 years', 'More than 50 years']\n",
    "\n",
    "# Categorize the duration length into 6 groups\n",
    "df_active['duration_group'] = pd.cut(df_active.duration,cut_points,labels=label_names)\n",
    "cat_type = CategoricalDtype(categories=label_names,ordered=True)\n",
    "\n",
    "# Convert column 'duration_group' to ordinal data type with order and label names\n",
    "df_active['duration_group'] = df_active['duration_group'].astype(cat_type)\n",
    "\n",
    "# Convert other neccessary columns to categorical data type\n",
    "df_active.FundingType = df_active.FundingType.astype('category')\n",
    "cat_type = CategoricalDtype(categories=['Elementary','Elementary-High Combination','Intermediate/Middle/Junior High','High School'],ordered=True)\n",
    "df_active['EILName'] = df_active['EILName'].astype(cat_type)\n",
    "df_active"
   ]
  },
  {
   "cell_type": "code",
   "execution_count": null,
   "metadata": {
    "execution": {
     "iopub.execute_input": "2020-05-25T07:51:33.012Z",
     "iopub.status.busy": "2020-05-25T07:51:33.007Z",
     "iopub.status.idle": "2020-05-25T07:51:33.320Z",
     "shell.execute_reply": "2020-05-25T07:51:33.405Z"
    },
    "jupyter": {
     "outputs_hidden": true,
     "source_hidden": false
    },
    "nteract": {
     "transient": {
      "deleting": false
     }
    },
    "outputExpanded": false
   },
   "outputs": [],
   "source": [
    "#Now make graphs based on the information provided from the data above\n",
    "# GRAPH 1: This graph is based on Funding Type was it Directly Funded or locally Funded\n",
    "\n",
    "ax = sns.countplot(y='FundingType', data=df_active, dodge=False)\n",
    "\n",
    "ax.set_title('Distribution of Funding Types for Schools in California 2018')\n",
    "\n",
    "ax.set_ylabel('Institutions')\n",
    "\n",
    "plt.savefig(\"Funding.png\")\n",
    "\n",
    "plt.show()\n"
   ]
  },
  {
   "cell_type": "code",
   "execution_count": null,
   "metadata": {
    "execution": {
     "iopub.execute_input": "2020-05-25T07:51:37.954Z",
     "iopub.status.busy": "2020-05-25T07:51:37.950Z",
     "iopub.status.idle": "2020-05-25T07:51:38.231Z",
     "shell.execute_reply": "2020-05-25T07:51:38.243Z"
    },
    "jupyter": {
     "outputs_hidden": true,
     "source_hidden": false
    },
    "nteract": {
     "transient": {
      "deleting": false
     }
    },
    "outputExpanded": false,
    "scrolled": true
   },
   "outputs": [],
   "source": [
    "#This graph based on data above, show what level of Institution was involved the most. \n",
    "# GRAPH 2: Educational Instruction Level\n",
    "ax = sns.countplot(y='EILName', data=df_active)\n",
    "\n",
    "ax.set_title('Educational Instruction Level for Schools in California 2018')\n",
    "\n",
    "ax.set_ylabel('Institutions')\n",
    "\n",
    "plt.savefig(\"Educationlevel.png\")\n",
    "\n",
    "plt.show()\n"
   ]
  },
  {
   "cell_type": "code",
   "execution_count": null,
   "metadata": {
    "execution": {
     "iopub.execute_input": "2020-05-25T07:51:41.643Z",
     "iopub.status.busy": "2020-05-25T07:51:41.638Z",
     "iopub.status.idle": "2020-05-25T07:51:41.927Z",
     "shell.execute_reply": "2020-05-25T07:51:41.939Z"
    },
    "jupyter": {
     "outputs_hidden": true,
     "source_hidden": false
    },
    "nteract": {
     "transient": {
      "deleting": false
     }
    },
    "outputExpanded": false
   },
   "outputs": [],
   "source": [
    "#This graph show which institution has been in operation the longest.\n",
    "# GRAPH 3: Operation Duration\n",
    "\n",
    "ax = sns.countplot(y='duration_group', data=df_active)\n",
    "\n",
    "ax.set_title('Distribution of Operation Duration for Schools in California 2018')\n",
    "\n",
    "ax.set_ylabel('Institutions')\n",
    "\n",
    "plt.savefig(\"Duration.png\")\n",
    "\n",
    "plt.show()"
   ]
  },
  {
   "cell_type": "markdown",
   "metadata": {
    "nteract": {
     "transient": {
      "deleting": false
     }
    }
   },
   "source": [
    "## Data source 2: Smarter Balanced Assessment Test"
   ]
  },
  {
   "cell_type": "code",
   "execution_count": null,
   "metadata": {},
   "outputs": [],
   "source": [
    "# Read data\n",
    "\n",
    "students_all = pd.read_csv('sb_ca2018_all_csv_v3.txt')\n",
    "students_all"
   ]
  },
  {
   "cell_type": "code",
   "execution_count": null,
   "metadata": {},
   "outputs": [],
   "source": [
    "# Data Cleaning\n",
    "\n",
    "# Keep the relevant columns\n",
    "newdf = students_all[['Subgroup ID','Test Id', 'Grade', 'Total Tested with Scores', 'CAASPP Reported Enrollment', 'Students Tested','Students with Scores', 'Mean Scale Score', 'Percentage Standard Exceeded', 'Percentage Standard Met', 'Percentage Standard Met and Above', 'Percentage Standard Nearly Met', 'Percentage Standard Not Met']]\n",
    "newdf"
   ]
  },
  {
   "cell_type": "code",
   "execution_count": null,
   "metadata": {},
   "outputs": [],
   "source": [
    "# Replace symbol '*' with null\n",
    "newdf = newdf.replace('*', np.nan)\n",
    "newdf\n",
    "\n",
    "# Convert some columns to numeric\n",
    "num_cols = ['CAASPP Reported Enrollment', 'Students Tested', 'Students with Scores', 'Mean Scale Score', 'Percentage Standard Exceeded', 'Percentage Standard Met', 'Percentage Standard Met and Above', 'Percentage Standard Nearly Met', 'Percentage Standard Not Met']\n",
    "for i in num_cols:\n",
    "    newdf[i] = newdf[i].astype(np.float64)"
   ]
  },
  {
   "cell_type": "markdown",
   "metadata": {
    "nteract": {
     "transient": {
      "deleting": false
     }
    }
   },
   "source": [
    "### RESULTS"
   ]
  },
  {
   "cell_type": "markdown",
   "metadata": {
    "nteract": {
     "transient": {
      "deleting": false
     }
    }
   },
   "source": [
    "### All Students"
   ]
  },
  {
   "cell_type": "code",
   "execution_count": null,
   "metadata": {
    "execution": {
     "iopub.execute_input": "2020-05-25T07:53:07.641Z",
     "iopub.status.busy": "2020-05-25T07:53:07.635Z",
     "iopub.status.idle": "2020-05-25T07:53:07.680Z",
     "shell.execute_reply": "2020-05-25T07:53:07.694Z"
    },
    "jupyter": {
     "outputs_hidden": true,
     "source_hidden": false
    },
    "nteract": {
     "transient": {
      "deleting": false
     }
    },
    "outputExpanded": false
   },
   "outputs": [],
   "source": [
    "#Distinguish Testing grades based on 2018 school datasets and put them into a subgroup\n",
    "# ALL STUDENTS (without any category) (Subgroup ID = 1) in California\n",
    "df1 = newdf[newdf['Subgroup ID'] == 1]\n",
    "\n",
    "# Look at the test 'SB - English Language Arts/Math' (Test Id = 1)\n",
    "df1_reading = df1[df1['Test Id'] == 1]\n",
    "\n",
    "# Look at the test 'SB - Mathematics' (Test Id = 2)\n",
    "df1_math = df1[df1['Test Id'] == 2]\n",
    "\n",
    "# For reading test, per each grade level, calculate the mean of Percentage Standard Exceeded, Met, Nearly Met or Not Met\n",
    "\n",
    "# Exclude Grade ID 13 because it presents 'All grades'. We will calculate the average of all grades later\n",
    "\n",
    "reading_mean = df1_reading[df1_reading.Grade != 13].groupby('Grade')[['Percentage Standard Exceeded', 'Percentage Standard Met', 'Percentage Standard Nearly Met', 'Percentage Standard Not Met']].mean()\n",
    "\n",
    "# Add a row 'All' as the average of performance of across all grades\n",
    "reading_mean.loc['All'] = reading_mean.mean()\n",
    "reading_mean"
   ]
  },
  {
   "cell_type": "code",
   "execution_count": null,
   "metadata": {
    "execution": {
     "iopub.execute_input": "2020-05-25T08:00:31.982Z",
     "iopub.status.busy": "2020-05-25T08:00:31.977Z",
     "iopub.status.idle": "2020-05-25T08:00:31.993Z",
     "shell.execute_reply": "2020-05-25T08:00:32.011Z"
    },
    "jupyter": {
     "outputs_hidden": true,
     "source_hidden": false
    },
    "nteract": {
     "transient": {
      "deleting": false
     }
    },
    "outputExpanded": false
   },
   "outputs": [],
   "source": [
    "# Do the same for Math  test again excluding Grade ID 13 because it shows 'All Grades'\n",
    "math_mean = df1_math[df1_math.Grade != 13].groupby('Grade')[['Percentage Standard Exceeded', 'Percentage Standard Met', 'Percentage Standard Nearly Met', 'Percentage Standard Not Met']].mean()\n",
    "math_mean.loc['All'] = math_mean.mean()\n",
    "math_mean"
   ]
  },
  {
   "cell_type": "code",
   "execution_count": null,
   "metadata": {},
   "outputs": [],
   "source": [
    "# need to write this line 2 times because it doesn't take the first command (a bug from plt library) \n",
    "plt.rcParams['figure.figsize'] = 20, 10"
   ]
  },
  {
   "cell_type": "code",
   "execution_count": null,
   "metadata": {
    "execution": {
     "iopub.execute_input": "2020-05-25T07:53:14.015Z",
     "iopub.status.busy": "2020-05-25T07:53:14.010Z",
     "iopub.status.idle": "2020-05-25T07:53:14.632Z",
     "shell.execute_reply": "2020-05-25T07:53:14.645Z"
    },
    "jupyter": {
     "outputs_hidden": true,
     "source_hidden": false
    },
    "nteract": {
     "transient": {
      "deleting": false
     }
    },
    "outputExpanded": false
   },
   "outputs": [],
   "source": [
    "# Plot the result from the above tables\n",
    "\n",
    "plt.rcParams['figure.figsize'] = 20, 10\n",
    "fig, axs = plt.subplots(nrows=2)\n",
    "ax0 = reading_mean.plot(kind='bar', stacked=True, rot=0, ax=axs[0])\n",
    "ax0.set_ylabel('Percentage')\n",
    "ax0.set_xlabel('')\n",
    "ax0.set_title('Reading Test Achievement Level Distribution - All Students')\n",
    "ax0.get_legend().remove()\n",
    "\n",
    "ax1 = math_mean.plot(kind='bar', stacked=True, rot=0, ax=axs[1])\n",
    "ax1.set_ylabel('Percentage')\n",
    "ax1.set_xlabel('Grade')\n",
    "ax1.set_title('Math Test Achievement Level Distribution - All Students')\n",
    "ax1.legend(loc='lower center', bbox_to_anchor=(0.5, -0.45))\n",
    "\n",
    "plt.savefig(\"Reading&MathTest.png\")\n",
    "\n",
    "plt.show()\n",
    "\n",
    "\n"
   ]
  },
  {
   "cell_type": "markdown",
   "metadata": {
    "nteract": {
     "transient": {
      "deleting": false
     }
    }
   },
   "source": [
    "### Seperated by Economic Status: Disadvantaged or Not Disadvantaged"
   ]
  },
  {
   "cell_type": "code",
   "execution_count": null,
   "metadata": {
    "execution": {
     "iopub.execute_input": "2020-05-25T07:53:24.016Z",
     "iopub.status.busy": "2020-05-25T07:53:24.010Z",
     "iopub.status.idle": "2020-05-25T07:53:24.057Z",
     "shell.execute_reply": "2020-05-25T07:53:24.051Z"
    },
    "jupyter": {
     "outputs_hidden": true,
     "source_hidden": false
    },
    "nteract": {
     "transient": {
      "deleting": false
     }
    },
    "outputExpanded": false
   },
   "outputs": [],
   "source": [
    "# MAKE NEW DATAFRAMES BASED ON ECONOMIC STATUS WITH ADVANTAGED/DISADVANTAGED STUDENTS\n",
    "# Student group which has economic disadvantage (Subgroup ID = 31)\n",
    "df_dis = newdf[newdf['Subgroup ID'] == 31]\n",
    "df_dis_reading = df_dis[df_dis['Test Id'] == 1] #reading test\n",
    "df_dis_math = df_dis[df_dis['Test Id'] == 2] #math test\n",
    "\n",
    "# Student group which doesn't have economic disadvantage (Subgroup ID = 111)\n",
    "df_adv = newdf[newdf['Subgroup ID'] == 111]\n",
    "df_adv_reading = df_adv[df_adv['Test Id'] == 1] #reading test\n",
    "df_adv_math = df_adv[df_adv['Test Id'] == 2] #math test"
   ]
  },
  {
   "cell_type": "code",
   "execution_count": null,
   "metadata": {
    "execution": {
     "iopub.execute_input": "2020-05-25T07:53:29.851Z",
     "iopub.status.busy": "2020-05-25T07:53:29.846Z",
     "iopub.status.idle": "2020-05-25T07:53:29.858Z",
     "shell.execute_reply": "2020-05-25T07:53:29.863Z"
    },
    "jupyter": {
     "outputs_hidden": true,
     "source_hidden": false
    },
    "nteract": {
     "transient": {
      "deleting": false
     }
    },
    "outputExpanded": false
   },
   "outputs": [],
   "source": [
    "# Similarily, get the mean of percentage performance on reading test for each grade \n",
    "# Disadvantaged group\n",
    "dis_reading_mean = df_dis_reading[df_dis_reading.Grade != 13].groupby('Grade')[['Percentage Standard Exceeded', 'Percentage Standard Met', 'Percentage Standard Nearly Met', 'Percentage Standard Not Met']].mean()\n",
    "dis_reading_mean.loc['All'] = reading_mean.mean()\n",
    "\n",
    "# Advantaged group\n",
    "adv_reading_mean = df_adv_reading[df_adv_reading.Grade != 13].groupby('Grade')[['Percentage Standard Exceeded', 'Percentage Standard Met', 'Percentage Standard Nearly Met', 'Percentage Standard Not Met']].mean()\n",
    "adv_reading_mean.loc['All'] = reading_mean.mean()"
   ]
  },
  {
   "cell_type": "code",
   "execution_count": null,
   "metadata": {
    "execution": {
     "iopub.execute_input": "2020-05-25T07:53:32.175Z",
     "iopub.status.busy": "2020-05-25T07:53:32.169Z",
     "iopub.status.idle": "2020-05-25T07:53:32.812Z",
     "shell.execute_reply": "2020-05-25T07:53:32.822Z"
    },
    "jupyter": {
     "outputs_hidden": true,
     "source_hidden": false
    },
    "nteract": {
     "transient": {
      "deleting": false
     }
    },
    "outputExpanded": false
   },
   "outputs": [],
   "source": [
    "plt.rcParams['figure.figsize'] = 20, 10\n",
    "fig, axs = plt.subplots(nrows=2)\n",
    "ax0 = dis_reading_mean.plot(kind='bar', stacked=True, rot=0, ax=axs[0])\n",
    "ax0.set_ylabel('Percentage')\n",
    "ax0.set_xlabel('')\n",
    "ax0.set_title('Reading Test Achievement Level Distribution - Economically Disadvantaged Students')\n",
    "ax0.get_legend().remove()\n",
    "\n",
    "ax1 = adv_reading_mean.plot(kind='bar', stacked=True, rot=0, ax=axs[1])\n",
    "ax1.set_ylabel('Percentage')\n",
    "ax1.set_xlabel('Grade')\n",
    "ax1.set_title('Math Test Achievement Level Distribution - Not Economically Disadvantaged Students')\n",
    "ax1.legend(loc='lower center', bbox_to_anchor=(0.5, -0.45))\n",
    "\n",
    "plt.savefig(\"Reading&MathAchievement.png\")\n",
    "\n",
    "plt.show()\n"
   ]
  },
  {
   "cell_type": "code",
   "execution_count": null,
   "metadata": {
    "execution": {
     "iopub.execute_input": "2020-05-25T07:53:45.872Z",
     "iopub.status.busy": "2020-05-25T07:53:45.868Z",
     "iopub.status.idle": "2020-05-25T07:53:45.879Z",
     "shell.execute_reply": "2020-05-25T07:53:45.883Z"
    },
    "jupyter": {
     "outputs_hidden": true,
     "source_hidden": false
    },
    "nteract": {
     "transient": {
      "deleting": false
     }
    },
    "outputExpanded": false
   },
   "outputs": [],
   "source": [
    "# Do the same thing to find MEAN for math test for ADVANTAGED/DISADVANTAGED STUDENTS excluding grade 13 because grade e13 shows all students\n",
    "dis_math_mean = df_dis_math[df_dis_math.Grade != 13].groupby('Grade')[['Percentage Standard Exceeded', 'Percentage Standard Met', 'Percentage Standard Nearly Met', 'Percentage Standard Not Met']].mean()\n",
    "dis_math_mean.loc['All'] = math_mean.mean()\n",
    "\n",
    "adv_math_mean = df_adv_math[df_adv_math.Grade != 13].groupby('Grade')[['Percentage Standard Exceeded', 'Percentage Standard Met', 'Percentage Standard Nearly Met', 'Percentage Standard Not Met']].mean()\n",
    "adv_math_mean.loc['All'] = math_mean.mean()"
   ]
  },
  {
   "cell_type": "code",
   "execution_count": null,
   "metadata": {
    "execution": {
     "iopub.execute_input": "2020-05-25T07:53:49.436Z",
     "iopub.status.busy": "2020-05-25T07:53:49.430Z",
     "iopub.status.idle": "2020-05-25T07:53:50.050Z",
     "shell.execute_reply": "2020-05-25T07:53:50.055Z"
    },
    "jupyter": {
     "outputs_hidden": true,
     "source_hidden": false
    },
    "nteract": {
     "transient": {
      "deleting": false
     }
    },
    "outputExpanded": false
   },
   "outputs": [],
   "source": [
    "#plot figures for math test results for economically advantaged and disadvantaged students..\n",
    "fig, axs = plt.subplots(nrows=2)\n",
    "ax0 = dis_math_mean.plot(kind='bar', stacked=True, rot=0, ax=axs[0])\n",
    "ax0.set_ylabel('Percentage')\n",
    "ax0.set_xlabel('')\n",
    "ax0.set_title('Math Test Achievement Level Distribution - Economically Disadvantaged Students')\n",
    "ax0.get_legend().remove()\n",
    "\n",
    "ax1 = adv_math_mean.plot(kind='bar', stacked=True, rot=0, ax=axs[1])\n",
    "ax1.set_ylabel('Percentage')\n",
    "ax1.set_xlabel('Grade')\n",
    "ax1.set_title('Math Test Achievement Level Distribution - Economically Advantaged Students')\n",
    "# 4 bbox to anchor 4 element tuple argument\n",
    "ax1.legend(loc='lower center', bbox_to_anchor=(0.5, -0.45))\n",
    "\n",
    "plt.savefig(\"PercentageforMathTest.png\")\n",
    "\n",
    "plt.show()\n"
   ]
  },
  {
   "cell_type": "code",
   "execution_count": null,
   "metadata": {
    "execution": {
     "iopub.execute_input": "2020-05-26T02:43:50.165Z",
     "iopub.status.busy": "2020-05-26T02:43:50.158Z",
     "iopub.status.idle": "2020-05-26T02:43:50.181Z",
     "shell.execute_reply": "2020-05-26T02:43:50.186Z"
    },
    "jupyter": {
     "outputs_hidden": true,
     "source_hidden": false
    },
    "nteract": {
     "transient": {
      "deleting": false
     }
    },
    "outputExpanded": false
   },
   "outputs": [],
   "source": [
    "pd.__version__"
   ]
  }
 ],
 "metadata": {
  "kernelspec": {
   "display_name": "Python 3",
   "language": "python",
   "name": "python3"
  },
  "language_info": {
   "codemirror_mode": {
    "name": "ipython",
    "version": 3
   },
   "file_extension": ".py",
   "mimetype": "text/x-python",
   "name": "python",
   "nbconvert_exporter": "python",
   "pygments_lexer": "ipython3",
   "version": "3.6.10"
  },
  "nteract": {
   "version": "0.23.3"
  }
 },
 "nbformat": 4,
 "nbformat_minor": 4
}
