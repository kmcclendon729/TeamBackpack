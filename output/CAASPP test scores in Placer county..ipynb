{
 "cells": [
  {
   "cell_type": "markdown",
   "metadata": {},
   "source": [
    "I am looking to prove that Magnet designated schools have higher CAASPP test scores in Placr county."
   ]
  },
  {
   "cell_type": "code",
   "execution_count": 1,
   "metadata": {},
   "outputs": [],
   "source": [
    "import pandas as pd\n",
    "import matplotlib.pyplot as plt\n",
    "import numpy as np"
   ]
  },
  {
   "cell_type": "code",
   "execution_count": 2,
   "metadata": {},
   "outputs": [
    {
     "data": {
      "text/html": [
       "<div>\n",
       "<style scoped>\n",
       "    .dataframe tbody tr th:only-of-type {\n",
       "        vertical-align: middle;\n",
       "    }\n",
       "\n",
       "    .dataframe tbody tr th {\n",
       "        vertical-align: top;\n",
       "    }\n",
       "\n",
       "    .dataframe thead th {\n",
       "        text-align: right;\n",
       "    }\n",
       "</style>\n",
       "<table border=\"1\" class=\"dataframe\">\n",
       "  <thead>\n",
       "    <tr style=\"text-align: right;\">\n",
       "      <th></th>\n",
       "      <th>School</th>\n",
       "      <th>Percentage Standard Exceeded</th>\n",
       "      <th>Percentage Standard Met</th>\n",
       "      <th>Percentage Standard Not Met</th>\n",
       "    </tr>\n",
       "  </thead>\n",
       "  <tbody>\n",
       "    <tr>\n",
       "      <th>0</th>\n",
       "      <td>Granite Bay High</td>\n",
       "      <td>58.07</td>\n",
       "      <td>30.71</td>\n",
       "      <td>4.13</td>\n",
       "    </tr>\n",
       "    <tr>\n",
       "      <th>1</th>\n",
       "      <td>Oakmont High</td>\n",
       "      <td>27.25</td>\n",
       "      <td>23.18</td>\n",
       "      <td>26.82</td>\n",
       "    </tr>\n",
       "    <tr>\n",
       "      <th>2</th>\n",
       "      <td>Woodcreek High</td>\n",
       "      <td>34.54</td>\n",
       "      <td>37.21</td>\n",
       "      <td>11.83</td>\n",
       "    </tr>\n",
       "    <tr>\n",
       "      <th>3</th>\n",
       "      <td>Rocklin High</td>\n",
       "      <td>33.41</td>\n",
       "      <td>34.27</td>\n",
       "      <td>12.36</td>\n",
       "    </tr>\n",
       "  </tbody>\n",
       "</table>\n",
       "</div>"
      ],
      "text/plain": [
       "             School  Percentage Standard Exceeded  Percentage Standard Met  \\\n",
       "0  Granite Bay High                         58.07                    30.71   \n",
       "1      Oakmont High                         27.25                    23.18   \n",
       "2    Woodcreek High                         34.54                    37.21   \n",
       "3      Rocklin High                         33.41                    34.27   \n",
       "\n",
       "   Percentage Standard Not Met  \n",
       "0                         4.13  \n",
       "1                        26.82  \n",
       "2                        11.83  \n",
       "3                        12.36  "
      ]
     },
     "execution_count": 2,
     "metadata": {},
     "output_type": "execute_result"
    }
   ],
   "source": [
    "csv_path = \"output/MPSchool.csv\"\n",
    "MPSchool = pd.read_csv(csv_path)\n",
    "MPSchool.head()"
   ]
  },
  {
   "cell_type": "code",
   "execution_count": null,
   "metadata": {},
   "outputs": [],
   "source": [
    "schools = schools.drop_duplicates()\n",
    "combined_data = schools.merge(pubsch_data, on=\"CDSCode\", how=\"inner\",)\n",
    "combined_data.head()"
   ]
  }
 ],
 "metadata": {
  "kernelspec": {
   "display_name": "Python 3",
   "language": "python",
   "name": "python3"
  },
  "language_info": {
   "codemirror_mode": {
    "name": "ipython",
    "version": 3
   },
   "file_extension": ".py",
   "mimetype": "text/x-python",
   "name": "python",
   "nbconvert_exporter": "python",
   "pygments_lexer": "ipython3",
   "version": "3.6.10"
  }
 },
 "nbformat": 4,
 "nbformat_minor": 4
}
